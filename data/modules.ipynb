{
 "cells": [
  {
   "cell_type": "markdown",
   "id": "883d4827-a449-482a-960c-0e7099c19278",
   "metadata": {},
   "source": [
    "# Import Modules"
   ]
  },
  {
   "cell_type": "code",
   "execution_count": 4,
   "id": "9659aa8f-3cfb-4450-805a-f45a1dc0b671",
   "metadata": {},
   "outputs": [],
   "source": [
    "import pandas"
   ]
  },
  {
   "cell_type": "code",
   "execution_count": 5,
   "id": "05c55a67-3300-4146-8b04-9cc919043f04",
   "metadata": {},
   "outputs": [],
   "source": [
    "# pandas.read_csv()"
   ]
  },
  {
   "cell_type": "code",
   "execution_count": 6,
   "id": "3575977e-d98d-4d8b-8dad-7beb3816c9ee",
   "metadata": {},
   "outputs": [],
   "source": [
    "import pandas as pd\n",
    "import numpy as np"
   ]
  },
  {
   "cell_type": "code",
   "execution_count": 7,
   "id": "fbbbf668-7c2d-4d97-b96d-46ae8be64f6b",
   "metadata": {},
   "outputs": [],
   "source": [
    "# pd.read_csv()"
   ]
  },
  {
   "cell_type": "code",
   "execution_count": 12,
   "id": "8c6feadd-907e-411c-9de3-943285f1bfe7",
   "metadata": {},
   "outputs": [],
   "source": [
    "predicted_steals = [4,7,2,1]\n",
    "actual_steals = [5,6,7,1]"
   ]
  },
  {
   "cell_type": "code",
   "execution_count": 13,
   "id": "e390fdd0-ba1f-499e-9860-6bbcaa50f581",
   "metadata": {},
   "outputs": [],
   "source": [
    "from sklearn.metrics import mean_squared_error"
   ]
  },
  {
   "cell_type": "code",
   "execution_count": 14,
   "id": "a891f0d7-c65d-4d15-b347-ee400c48005a",
   "metadata": {},
   "outputs": [],
   "source": [
    "lin_mse = mean_squared_error(predicted_steals, actual_steals)"
   ]
  },
  {
   "cell_type": "code",
   "execution_count": 15,
   "id": "fb99a9f1-76c4-4da0-8339-6601dd885b77",
   "metadata": {},
   "outputs": [
    {
     "data": {
      "text/plain": [
       "np.float64(6.75)"
      ]
     },
     "execution_count": 15,
     "metadata": {},
     "output_type": "execute_result"
    }
   ],
   "source": [
    "lin_mse"
   ]
  },
  {
   "cell_type": "markdown",
   "id": "afe82a71-b148-4097-9c44-b898e40c8f83",
   "metadata": {},
   "source": [
    "# Printing"
   ]
  },
  {
   "cell_type": "code",
   "execution_count": 16,
   "id": "fb82f475-379f-47d8-9513-19917d5b239e",
   "metadata": {},
   "outputs": [
    {
     "name": "stdout",
     "output_type": "stream",
     "text": [
      "Printing this message\n"
     ]
    }
   ],
   "source": [
    "print(\"Printing this message\")"
   ]
  },
  {
   "cell_type": "code",
   "execution_count": 18,
   "id": "d79a449d-d89d-4d2c-9aec-179deb495e00",
   "metadata": {},
   "outputs": [],
   "source": [
    "x = 'Jaylen Brown was the finals MVP in 2024'"
   ]
  },
  {
   "cell_type": "code",
   "execution_count": 19,
   "id": "080e138d-c76c-4243-99ca-6cdcd15fdd50",
   "metadata": {},
   "outputs": [
    {
     "name": "stdout",
     "output_type": "stream",
     "text": [
      "Jaylen Brown was the finals MVP in 2024\n"
     ]
    }
   ],
   "source": [
    "print(x)"
   ]
  },
  {
   "cell_type": "code",
   "execution_count": null,
   "id": "bcca21c5-6c78-41fe-bf0c-65df2637f0d3",
   "metadata": {},
   "outputs": [],
   "source": []
  }
 ],
 "metadata": {
  "kernelspec": {
   "display_name": "Python 3 (ipykernel)",
   "language": "python",
   "name": "python3"
  },
  "language_info": {
   "codemirror_mode": {
    "name": "ipython",
    "version": 3
   },
   "file_extension": ".py",
   "mimetype": "text/x-python",
   "name": "python",
   "nbconvert_exporter": "python",
   "pygments_lexer": "ipython3",
   "version": "3.12.6"
  }
 },
 "nbformat": 4,
 "nbformat_minor": 5
}
