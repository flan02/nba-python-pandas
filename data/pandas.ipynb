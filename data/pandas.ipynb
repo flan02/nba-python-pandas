{
 "cells": [
  {
   "cell_type": "markdown",
   "id": "ca6db13e-76e5-4f70-af70-d3f643f742be",
   "metadata": {},
   "source": [
    "# Pandas\n",
    "Excel ♥ SQL\n",
    "\n",
    "[Excel ♥ SQL]: # (Invisible comment)"
   ]
  },
  {
   "cell_type": "markdown",
   "id": "15170957-07da-43da-b9aa-a20cca49f25a",
   "metadata": {},
   "source": [
    "### Dataframes & Series"
   ]
  },
  {
   "cell_type": "markdown",
   "id": "b3af45aa-c7dd-4c07-9446-0e43d6f0d14b",
   "metadata": {},
   "source": [
    "Series #1\n",
    "\n",
    "| player_id | pts_per_games |\n",
    "|-----------|---------------|\n",
    "| 201939    |       27.3    |\n",
    "| 201940    |       26.0    |\n",
    "| 201941    |       16.3    |\n",
    "\n",
    "Series #2\n",
    "\n",
    "| player_id | reb_per_games |\n",
    "|-----------|---------------|\n",
    "| 201939    |       6.7     |\n",
    "| 201940    |       5.4     |\n",
    "| 201941    |       4.8     |"
   ]
  },
  {
   "cell_type": "markdown",
   "id": "d4b00820-3109-4f40-9f75-d7f4d2fe429e",
   "metadata": {},
   "source": [
    "Dataframes (DF)\n",
    "\n",
    "| player_id | pts_per_games | reb_per_game |\n",
    "|-----------|---------------|--------------|\n",
    "| 201939    |       27.3    |    6.7       |  \n",
    "| 201940    |       26.0    |    5.4       |\n",
    "| 201941    |       16.3    |    4.8       |\n"
   ]
  },
  {
   "cell_type": "markdown",
   "id": "ce163134-25cc-4dc6-b928-62ae8614187d",
   "metadata": {},
   "source": [
    "### Dataframes store in memory a collection of series\n",
    "\n",
    "Dataframes can be created using various inputs like:\n",
    "\n",
    "* Lists\n",
    "* Dictionaries\n",
    "* Series\n",
    "* Numpy arrays\n",
    "* Another dataframe\n",
    "\n",
    "Dataframes can be created reading in data like:\n",
    "\n",
    "---\n",
    "+ CSV\n",
    "+ Excel\n",
    "+ SQL\n",
    "---\n"
   ]
  },
  {
   "cell_type": "markdown",
   "id": "4e8f93e8-cfc7-43b4-b1b3-03ae4af0857b",
   "metadata": {},
   "source": [
    "# Creating a Dataframe"
   ]
  },
  {
   "cell_type": "code",
   "execution_count": 91,
   "id": "bbc81487-9290-4270-9dd4-71370c3a4556",
   "metadata": {},
   "outputs": [],
   "source": [
    "import pandas as pd"
   ]
  },
  {
   "cell_type": "code",
   "execution_count": 92,
   "id": "bb323cca-bfd0-4add-9202-f69481fa1325",
   "metadata": {},
   "outputs": [],
   "source": [
    "# This line create an empty dataframe\n",
    "df = pd.DataFrame()"
   ]
  },
  {
   "cell_type": "code",
   "execution_count": 93,
   "id": "15818b62-5dc4-4291-9277-b852b1694baa",
   "metadata": {},
   "outputs": [
    {
     "name": "stdout",
     "output_type": "stream",
     "text": [
      "Empty DataFrame\n",
      "Columns: []\n",
      "Index: []\n"
     ]
    }
   ],
   "source": [
    "print(df)"
   ]
  },
  {
   "cell_type": "code",
   "execution_count": 94,
   "id": "715cfffe-3f92-4751-9f57-2ae8e74cf408",
   "metadata": {},
   "outputs": [],
   "source": [
    "celtics_dict = {\n",
    "    'player_name': ['Jaylen Brown', 'Jayson Tatum', 'Derrick White', 'Jrue Holiday', 'Neemias Queta'],\n",
    "    'ppg': [ 26.8, 30.3, 12.4, 14.1, 8.3 ],\n",
    "    'rpg': [ 5.3, 8.2, 4.5, 4.7, 7.5 ],\n",
    "    'apg': [ 4.4, 5.1, 6.3, 5.9, 0.6 ]\n",
    "}"
   ]
  },
  {
   "cell_type": "code",
   "execution_count": 95,
   "id": "30d4eacb-68f7-4bfd-898e-e8a882cc0edb",
   "metadata": {},
   "outputs": [],
   "source": [
    "# df(celtics_dict) --> This won't work because the df was already created and it can't be overwritten"
   ]
  },
  {
   "cell_type": "code",
   "execution_count": 96,
   "id": "af7d7c0f-d61e-4bfb-a98b-0d812b570731",
   "metadata": {},
   "outputs": [],
   "source": [
    "df_celtics = pd.DataFrame(celtics_dict)"
   ]
  },
  {
   "cell_type": "code",
   "execution_count": 97,
   "id": "64b15c0e-e82f-4c52-a619-72d57f9fb7be",
   "metadata": {},
   "outputs": [
    {
     "name": "stdout",
     "output_type": "stream",
     "text": [
      "     player_name   ppg  rpg  apg\n",
      "0   Jaylen Brown  26.8  5.3  4.4\n",
      "1   Jayson Tatum  30.3  8.2  5.1\n",
      "2  Derrick White  12.4  4.5  6.3\n",
      "3   Jrue Holiday  14.1  4.7  5.9\n",
      "4  Neemias Queta   8.3  7.5  0.6\n"
     ]
    }
   ],
   "source": [
    "print(df_celtics)"
   ]
  },
  {
   "cell_type": "code",
   "execution_count": 98,
   "id": "fffbdf68-4e83-4ecb-9651-e03e8e56cae6",
   "metadata": {},
   "outputs": [],
   "source": [
    "df_filtered = pd.DataFrame(df_celtics, index=[2,4])"
   ]
  },
  {
   "cell_type": "code",
   "execution_count": 99,
   "id": "c485ead8-9a16-49b3-87c6-6926d06cde11",
   "metadata": {},
   "outputs": [
    {
     "name": "stdout",
     "output_type": "stream",
     "text": [
      "     player_name   ppg  rpg  apg\n",
      "2  Derrick White  12.4  4.5  6.3\n",
      "4  Neemias Queta   8.3  7.5  0.6\n"
     ]
    }
   ],
   "source": [
    "print(df_filtered)"
   ]
  },
  {
   "cell_type": "code",
   "execution_count": 100,
   "id": "8ac8593d-a6b2-40ea-b76d-9f083cffb78d",
   "metadata": {},
   "outputs": [],
   "source": [
    "label = ['sf', 'pf', 'pg', 'sg', 'c']"
   ]
  },
  {
   "cell_type": "code",
   "execution_count": 101,
   "id": "ddefc94c-703a-4f58-aae7-55c35d6e13c3",
   "metadata": {},
   "outputs": [],
   "source": [
    "df_label = pd.DataFrame(celtics_dict, index= label)"
   ]
  },
  {
   "cell_type": "code",
   "execution_count": 102,
   "id": "9576d6cb-7963-4e3f-a8c0-bf2273066206",
   "metadata": {},
   "outputs": [
    {
     "name": "stdout",
     "output_type": "stream",
     "text": [
      "      player_name   ppg  rpg  apg\n",
      "sf   Jaylen Brown  26.8  5.3  4.4\n",
      "pf   Jayson Tatum  30.3  8.2  5.1\n",
      "pg  Derrick White  12.4  4.5  6.3\n",
      "sg   Jrue Holiday  14.1  4.7  5.9\n",
      "c   Neemias Queta   8.3  7.5  0.6\n"
     ]
    }
   ],
   "source": [
    "print(df_label)"
   ]
  },
  {
   "cell_type": "code",
   "execution_count": 103,
   "id": "f4bcd87c-8df4-4312-a220-c99e60ec2721",
   "metadata": {},
   "outputs": [],
   "source": [
    "# Let's create another DataFrame\n",
    "stats = [['Jaylen Brown',4,6], ['Jayson Tatum',2,5],['Jrue Holiday',4,4]]"
   ]
  },
  {
   "cell_type": "code",
   "execution_count": 104,
   "id": "ac01f9a3-cc2d-4c06-b301-3db97aaebeef",
   "metadata": {},
   "outputs": [],
   "source": [
    "stats_df = pd.DataFrame(stats, columns= ['player', 'oreb', 'dreb'])"
   ]
  },
  {
   "cell_type": "code",
   "execution_count": 105,
   "id": "a25704fa-f077-419a-bd3c-e678e3491e1f",
   "metadata": {},
   "outputs": [
    {
     "name": "stdout",
     "output_type": "stream",
     "text": [
      "         player  oreb  dreb\n",
      "0  Jaylen Brown     4     6\n",
      "1  Jayson Tatum     2     5\n",
      "2  Jrue Holiday     4     4\n"
     ]
    }
   ],
   "source": [
    "print(stats_df)"
   ]
  },
  {
   "cell_type": "code",
   "execution_count": 107,
   "id": "bf08400e-ad9b-43a9-8729-77a89ffaaec3",
   "metadata": {},
   "outputs": [],
   "source": [
    "rebs = [6,9,11,7,3]"
   ]
  },
  {
   "cell_type": "code",
   "execution_count": 111,
   "id": "c5d2e0d4-2f19-4aae-8ba0-51a460547da0",
   "metadata": {},
   "outputs": [],
   "source": [
    "reb_series = pd.DataFrame(rebs, columns=['jaylen brown_reb'])"
   ]
  },
  {
   "cell_type": "code",
   "execution_count": 112,
   "id": "94135236-c382-4f86-9c84-5c33c54682a1",
   "metadata": {},
   "outputs": [
    {
     "name": "stdout",
     "output_type": "stream",
     "text": [
      "   jaylen brown_reb\n",
      "0                 6\n",
      "1                 9\n",
      "2                11\n",
      "3                 7\n",
      "4                 3\n"
     ]
    }
   ],
   "source": [
    "print(reb_series)"
   ]
  },
  {
   "cell_type": "markdown",
   "id": "484ca3f0-024f-44a4-9043-f7dafcd37865",
   "metadata": {},
   "source": [
    "# Reading CSV Files in Dataframes"
   ]
  },
  {
   "cell_type": "code",
   "execution_count": 113,
   "id": "9a7df7c5-06e1-4dd3-95e1-58474f832606",
   "metadata": {},
   "outputs": [],
   "source": [
    "import pandas as pd"
   ]
  },
  {
   "cell_type": "code",
   "execution_count": 115,
   "id": "b0cd1d7f-a81b-44a1-9711-04c646a9d21f",
   "metadata": {},
   "outputs": [],
   "source": [
    "df = pd.read_csv('../nba-stats-csv/player_info.csv')"
   ]
  },
  {
   "cell_type": "code",
   "execution_count": 116,
   "id": "9b2db383-d4e2-43e4-b786-30e759ebd2bc",
   "metadata": {},
   "outputs": [
    {
     "name": "stdout",
     "output_type": "stream",
     "text": [
      "       player_id     player_name season_id\n",
      "0            920      A.C. Green   1996-97\n",
      "1            243     Aaron McKie   1996-97\n",
      "2           1425  Aaron Williams   1996-97\n",
      "3            768       Acie Earl   1996-97\n",
      "4            228      Adam Keefe   1996-97\n",
      "...          ...             ...       ...\n",
      "29223    1628380    Zach Collins   2017-18\n",
      "29224     203897     Zach LaVine   2017-18\n",
      "29225       2216   Zach Randolph   2017-18\n",
      "29226       2585   Zaza Pachulia   2017-18\n",
      "29227    1627753         Zhou Qi   2017-18\n",
      "\n",
      "[29228 rows x 3 columns]\n"
     ]
    }
   ],
   "source": [
    "print(df)"
   ]
  },
  {
   "cell_type": "code",
   "execution_count": 117,
   "id": "f5889258-0162-4ef9-a7e8-7776ce96df9a",
   "metadata": {},
   "outputs": [
    {
     "data": {
      "text/html": [
       "<div>\n",
       "<style scoped>\n",
       "    .dataframe tbody tr th:only-of-type {\n",
       "        vertical-align: middle;\n",
       "    }\n",
       "\n",
       "    .dataframe tbody tr th {\n",
       "        vertical-align: top;\n",
       "    }\n",
       "\n",
       "    .dataframe thead th {\n",
       "        text-align: right;\n",
       "    }\n",
       "</style>\n",
       "<table border=\"1\" class=\"dataframe\">\n",
       "  <thead>\n",
       "    <tr style=\"text-align: right;\">\n",
       "      <th></th>\n",
       "      <th>player_id</th>\n",
       "      <th>player_name</th>\n",
       "      <th>season_id</th>\n",
       "    </tr>\n",
       "  </thead>\n",
       "  <tbody>\n",
       "    <tr>\n",
       "      <th>0</th>\n",
       "      <td>920</td>\n",
       "      <td>A.C. Green</td>\n",
       "      <td>1996-97</td>\n",
       "    </tr>\n",
       "    <tr>\n",
       "      <th>1</th>\n",
       "      <td>243</td>\n",
       "      <td>Aaron McKie</td>\n",
       "      <td>1996-97</td>\n",
       "    </tr>\n",
       "    <tr>\n",
       "      <th>2</th>\n",
       "      <td>1425</td>\n",
       "      <td>Aaron Williams</td>\n",
       "      <td>1996-97</td>\n",
       "    </tr>\n",
       "    <tr>\n",
       "      <th>3</th>\n",
       "      <td>768</td>\n",
       "      <td>Acie Earl</td>\n",
       "      <td>1996-97</td>\n",
       "    </tr>\n",
       "    <tr>\n",
       "      <th>4</th>\n",
       "      <td>228</td>\n",
       "      <td>Adam Keefe</td>\n",
       "      <td>1996-97</td>\n",
       "    </tr>\n",
       "    <tr>\n",
       "      <th>5</th>\n",
       "      <td>154</td>\n",
       "      <td>Adrian Caldwell</td>\n",
       "      <td>1996-97</td>\n",
       "    </tr>\n",
       "    <tr>\n",
       "      <th>6</th>\n",
       "      <td>673</td>\n",
       "      <td>Alan Henderson</td>\n",
       "      <td>1996-97</td>\n",
       "    </tr>\n",
       "    <tr>\n",
       "      <th>7</th>\n",
       "      <td>1059</td>\n",
       "      <td>Aleksandar Djordjevic</td>\n",
       "      <td>1996-97</td>\n",
       "    </tr>\n",
       "    <tr>\n",
       "      <th>8</th>\n",
       "      <td>275</td>\n",
       "      <td>Allan Houston</td>\n",
       "      <td>1996-97</td>\n",
       "    </tr>\n",
       "    <tr>\n",
       "      <th>9</th>\n",
       "      <td>947</td>\n",
       "      <td>Allen Iverson</td>\n",
       "      <td>1996-97</td>\n",
       "    </tr>\n",
       "  </tbody>\n",
       "</table>\n",
       "</div>"
      ],
      "text/plain": [
       "   player_id            player_name season_id\n",
       "0        920             A.C. Green   1996-97\n",
       "1        243            Aaron McKie   1996-97\n",
       "2       1425         Aaron Williams   1996-97\n",
       "3        768              Acie Earl   1996-97\n",
       "4        228             Adam Keefe   1996-97\n",
       "5        154        Adrian Caldwell   1996-97\n",
       "6        673         Alan Henderson   1996-97\n",
       "7       1059  Aleksandar Djordjevic   1996-97\n",
       "8        275          Allan Houston   1996-97\n",
       "9        947          Allen Iverson   1996-97"
      ]
     },
     "execution_count": 117,
     "metadata": {},
     "output_type": "execute_result"
    }
   ],
   "source": [
    "df.head(10)"
   ]
  },
  {
   "cell_type": "code",
   "execution_count": 121,
   "id": "9d8b6c0b-4b04-4bac-ae92-0663a9f48efe",
   "metadata": {},
   "outputs": [],
   "source": [
    "df_noheader = pd.read_csv('../nba-stats-csv/player_info_no_header.csv', header=None)"
   ]
  },
  {
   "cell_type": "code",
   "execution_count": 122,
   "id": "7ddbc014-69a5-4cbf-96f3-64e5725c8c4d",
   "metadata": {},
   "outputs": [
    {
     "name": "stdout",
     "output_type": "stream",
     "text": [
      "             0               1        2\n",
      "0          920      A.C. Green  1996-97\n",
      "1          243     Aaron McKie  1996-97\n",
      "2         1425  Aaron Williams  1996-97\n",
      "3          768       Acie Earl  1996-97\n",
      "4          228      Adam Keefe  1996-97\n",
      "...        ...             ...      ...\n",
      "29223  1628380    Zach Collins  2017-18\n",
      "29224   203897     Zach LaVine  2017-18\n",
      "29225     2216   Zach Randolph  2017-18\n",
      "29226     2585   Zaza Pachulia  2017-18\n",
      "29227  1627753         Zhou Qi  2017-18\n",
      "\n",
      "[29228 rows x 3 columns]\n"
     ]
    }
   ],
   "source": [
    "print(df_noheader)"
   ]
  },
  {
   "cell_type": "code",
   "execution_count": 124,
   "id": "d6be0262-8d59-4d80-8c54-38541a2b75c7",
   "metadata": {},
   "outputs": [
    {
     "data": {
      "text/html": [
       "<div>\n",
       "<style scoped>\n",
       "    .dataframe tbody tr th:only-of-type {\n",
       "        vertical-align: middle;\n",
       "    }\n",
       "\n",
       "    .dataframe tbody tr th {\n",
       "        vertical-align: top;\n",
       "    }\n",
       "\n",
       "    .dataframe thead th {\n",
       "        text-align: right;\n",
       "    }\n",
       "</style>\n",
       "<table border=\"1\" class=\"dataframe\">\n",
       "  <thead>\n",
       "    <tr style=\"text-align: right;\">\n",
       "      <th></th>\n",
       "      <th>0</th>\n",
       "      <th>1</th>\n",
       "      <th>2</th>\n",
       "    </tr>\n",
       "  </thead>\n",
       "  <tbody>\n",
       "    <tr>\n",
       "      <th>0</th>\n",
       "      <td>920</td>\n",
       "      <td>A.C. Green</td>\n",
       "      <td>1996-97</td>\n",
       "    </tr>\n",
       "    <tr>\n",
       "      <th>1</th>\n",
       "      <td>243</td>\n",
       "      <td>Aaron McKie</td>\n",
       "      <td>1996-97</td>\n",
       "    </tr>\n",
       "    <tr>\n",
       "      <th>2</th>\n",
       "      <td>1425</td>\n",
       "      <td>Aaron Williams</td>\n",
       "      <td>1996-97</td>\n",
       "    </tr>\n",
       "    <tr>\n",
       "      <th>3</th>\n",
       "      <td>768</td>\n",
       "      <td>Acie Earl</td>\n",
       "      <td>1996-97</td>\n",
       "    </tr>\n",
       "    <tr>\n",
       "      <th>4</th>\n",
       "      <td>228</td>\n",
       "      <td>Adam Keefe</td>\n",
       "      <td>1996-97</td>\n",
       "    </tr>\n",
       "  </tbody>\n",
       "</table>\n",
       "</div>"
      ],
      "text/plain": [
       "      0               1        2\n",
       "0   920      A.C. Green  1996-97\n",
       "1   243     Aaron McKie  1996-97\n",
       "2  1425  Aaron Williams  1996-97\n",
       "3   768       Acie Earl  1996-97\n",
       "4   228      Adam Keefe  1996-97"
      ]
     },
     "execution_count": 124,
     "metadata": {},
     "output_type": "execute_result"
    }
   ],
   "source": [
    "df_noheader.head(5)"
   ]
  },
  {
   "cell_type": "code",
   "execution_count": 125,
   "id": "46142d0b-e2b4-48d4-9c06-bbfc45fdd75f",
   "metadata": {},
   "outputs": [],
   "source": [
    "df_index = pd.read_csv('../nba-stats-csv/player_info.csv', index_col='player_id')"
   ]
  },
  {
   "cell_type": "code",
   "execution_count": 126,
   "id": "bfcdba0e-7c1c-4bad-8b67-032480d7e75f",
   "metadata": {},
   "outputs": [
    {
     "name": "stdout",
     "output_type": "stream",
     "text": [
      "              player_name season_id\n",
      "player_id                          \n",
      "920            A.C. Green   1996-97\n",
      "243           Aaron McKie   1996-97\n",
      "1425       Aaron Williams   1996-97\n",
      "768             Acie Earl   1996-97\n",
      "228            Adam Keefe   1996-97\n",
      "...                   ...       ...\n",
      "1628380      Zach Collins   2017-18\n",
      "203897        Zach LaVine   2017-18\n",
      "2216        Zach Randolph   2017-18\n",
      "2585        Zaza Pachulia   2017-18\n",
      "1627753           Zhou Qi   2017-18\n",
      "\n",
      "[29228 rows x 2 columns]\n"
     ]
    }
   ],
   "source": [
    "print(df_index)"
   ]
  },
  {
   "cell_type": "code",
   "execution_count": 127,
   "id": "3d31d27f-3d3e-46d4-ad2f-9129c49a6428",
   "metadata": {},
   "outputs": [],
   "source": [
    "df_usecols = pd.read_csv('../nba-stats-csv/player_general_traditional_per_game_data.csv', usecols=['player_id', 'season_id'])"
   ]
  },
  {
   "cell_type": "code",
   "execution_count": 128,
   "id": "1ed484c6-3e48-462d-ac64-d9e4aed1caf9",
   "metadata": {},
   "outputs": [
    {
     "data": {
      "text/html": [
       "<div>\n",
       "<style scoped>\n",
       "    .dataframe tbody tr th:only-of-type {\n",
       "        vertical-align: middle;\n",
       "    }\n",
       "\n",
       "    .dataframe tbody tr th {\n",
       "        vertical-align: top;\n",
       "    }\n",
       "\n",
       "    .dataframe thead th {\n",
       "        text-align: right;\n",
       "    }\n",
       "</style>\n",
       "<table border=\"1\" class=\"dataframe\">\n",
       "  <thead>\n",
       "    <tr style=\"text-align: right;\">\n",
       "      <th></th>\n",
       "      <th>player_id</th>\n",
       "      <th>season_id</th>\n",
       "    </tr>\n",
       "  </thead>\n",
       "  <tbody>\n",
       "    <tr>\n",
       "      <th>0</th>\n",
       "      <td>471</td>\n",
       "      <td>1996-97</td>\n",
       "    </tr>\n",
       "    <tr>\n",
       "      <th>1</th>\n",
       "      <td>920</td>\n",
       "      <td>1996-97</td>\n",
       "    </tr>\n",
       "    <tr>\n",
       "      <th>2</th>\n",
       "      <td>243</td>\n",
       "      <td>1996-97</td>\n",
       "    </tr>\n",
       "    <tr>\n",
       "      <th>3</th>\n",
       "      <td>1425</td>\n",
       "      <td>1996-97</td>\n",
       "    </tr>\n",
       "    <tr>\n",
       "      <th>4</th>\n",
       "      <td>768</td>\n",
       "      <td>1996-97</td>\n",
       "    </tr>\n",
       "  </tbody>\n",
       "</table>\n",
       "</div>"
      ],
      "text/plain": [
       "   player_id season_id\n",
       "0        471   1996-97\n",
       "1        920   1996-97\n",
       "2        243   1996-97\n",
       "3       1425   1996-97\n",
       "4        768   1996-97"
      ]
     },
     "execution_count": 128,
     "metadata": {},
     "output_type": "execute_result"
    }
   ],
   "source": [
    "df_usecols.head(5)"
   ]
  },
  {
   "cell_type": "code",
   "execution_count": null,
   "id": "435decbd-4bea-41ed-b678-2e92cb05c8b3",
   "metadata": {},
   "outputs": [],
   "source": []
  }
 ],
 "metadata": {
  "kernelspec": {
   "display_name": "Python 3 (ipykernel)",
   "language": "python",
   "name": "python3"
  },
  "language_info": {
   "codemirror_mode": {
    "name": "ipython",
    "version": 3
   },
   "file_extension": ".py",
   "mimetype": "text/x-python",
   "name": "python",
   "nbconvert_exporter": "python",
   "pygments_lexer": "ipython3",
   "version": "3.12.6"
  }
 },
 "nbformat": 4,
 "nbformat_minor": 5
}
