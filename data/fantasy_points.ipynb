{
 "cells": [
  {
   "cell_type": "markdown",
   "id": "0",
   "metadata": {},
   "source": [
    "# Converting to Fantasy Points"
   ]
  },
  {
   "cell_type": "code",
   "execution_count": null,
   "id": "1",
   "metadata": {},
   "outputs": [],
   "source": [
    "import pandas as pd"
   ]
  },
  {
   "cell_type": "code",
   "execution_count": null,
   "id": "2",
   "metadata": {},
   "outputs": [],
   "source": [
    "player_proj = pd.read_csv('../nba-stats-csv/player_proj_df.csv')\n",
    "player_info = pd.read_csv('../nba-stats-csv/player_info_df.csv')"
   ]
  },
  {
   "cell_type": "code",
   "execution_count": null,
   "id": "3",
   "metadata": {},
   "outputs": [],
   "source": [
    "proj_columns = [\n",
    "    'proj_pts',\n",
    "    'proj_min',\n",
    "    'proj_fgm',\n",
    "    'proj_fga',\n",
    "    'proj_fg3m',\n",
    "    'proj_fg3a',\n",
    "    'proj_ftm',\n",
    "    'proj_fta',\n",
    "    'proj_oreb',\n",
    "    'proj_dreb',\n",
    "    'proj_ast',\n",
    "    'proj_stl',\n",
    "    'proj_tov',\n",
    "    'proj_blk'                     \n",
    "]"
   ]
  },
  {
   "cell_type": "code",
   "execution_count": null,
   "id": "4",
   "metadata": {},
   "outputs": [],
   "source": [
    "df_proj_stats = player_proj.loc[:, proj_columns]"
   ]
  },
  {
   "cell_type": "code",
   "execution_count": null,
   "id": "5",
   "metadata": {},
   "outputs": [],
   "source": [
    "df_proj_stats = pd.concat([player_info, df_proj_stats], axis=1)"
   ]
  },
  {
   "cell_type": "code",
   "execution_count": null,
   "id": "6",
   "metadata": {},
   "outputs": [],
   "source": [
    "proj_dictionary = {  'proj_season_id' : 'season_id',\n",
    "                'proj_pts' : 'pts',\n",
    "                'proj_min' : 'min',\n",
    "                'proj_fgm' : 'fgm',\n",
    "                'proj_fga' : 'fga',\n",
    "                'proj_fg3m' : 'fg3m',\n",
    "                'proj_fg3a' : 'fg3a',\n",
    "                'proj_ftm' : 'ftm',\n",
    "                'proj_fta' : 'fta',\n",
    "                'proj_oreb' : 'oreb',\n",
    "                'proj_dreb' : 'dreb',\n",
    "                'proj_ast' : 'ast',\n",
    "                'proj_stl' : 'stl',\n",
    "                'proj_tov' : 'tov',\n",
    "                'proj_blk' : 'blk'\n",
    "            }"
   ]
  },
  {
   "cell_type": "code",
   "execution_count": null,
   "id": "7",
   "metadata": {},
   "outputs": [],
   "source": [
    "df_proj_stats.rename(columns = proj_dictionary, inplace=True)"
   ]
  },
  {
   "cell_type": "code",
   "execution_count": null,
   "id": "8",
   "metadata": {},
   "outputs": [],
   "source": [
    "df_proj_stats.sample(5)"
   ]
  },
  {
   "cell_type": "code",
   "execution_count": null,
   "id": "9",
   "metadata": {},
   "outputs": [],
   "source": [
    "def fantasy_pts_converter(row):\n",
    "    pts = row['pts']\n",
    "    fgm = row['fgm']\n",
    "    fga = row['fga']\n",
    "    ftm = row['ftm']\n",
    "    fta = row['fta']\n",
    "    oreb = row['oreb']\n",
    "    dreb = row['dreb']\n",
    "    ast = row['ast']\n",
    "    stl = row['stl']\n",
    "    tov = row['tov']\n",
    "    blk = row['blk']\n",
    "    fantasy_pts = pts + fgm - fga + ftm - fta + oreb + dreb + ast + stl - tov + blk\n",
    "    return fantasy_pts"
   ]
  },
  {
   "cell_type": "code",
   "execution_count": null,
   "id": "10",
   "metadata": {},
   "outputs": [],
   "source": [
    "fantasy_value = df_proj_stats.apply(fantasy_pts_converter, axis = 1)"
   ]
  },
  {
   "cell_type": "code",
   "execution_count": null,
   "id": "11",
   "metadata": {},
   "outputs": [],
   "source": [
    "df_proj_stats['fantasy_pts'] = fantasy_value"
   ]
  },
  {
   "cell_type": "code",
   "execution_count": null,
   "id": "12",
   "metadata": {},
   "outputs": [],
   "source": [
    "df_proj_stats.sort_values('fantasy_pts', ascending=False)"
   ]
  },
  {
   "cell_type": "code",
   "execution_count": null,
   "id": "13",
   "metadata": {},
   "outputs": [],
   "source": [
    "df_for_export = round(df_proj_stats.sort_values('fantasy_pts', ascending=False),2)"
   ]
  },
  {
   "cell_type": "code",
   "execution_count": null,
   "id": "14",
   "metadata": {},
   "outputs": [],
   "source": [
    "df_for_export.to_csv('../nba-stats-csv/projected_fantasy_pts_final_2018_19.csv', index=False)"
   ]
  },
  {
   "cell_type": "code",
   "execution_count": null,
   "id": "15",
   "metadata": {},
   "outputs": [],
   "source": [
    "df_for_export.to_csv('../nba-stats-csv/projected_fantasy_pts_final_2018_19_flan02.csv', index=False)"
   ]
  },
  {
   "cell_type": "markdown",
   "id": "16",
   "metadata": {},
   "source": [
    "# Value Based Drafting"
   ]
  },
  {
   "cell_type": "code",
   "execution_count": null,
   "id": "17",
   "metadata": {},
   "outputs": [],
   "source": [
    "# The Principle:\n",
    "# The value of a player is determined not by the number of points he scored, but by how much he outscores his peers at his particular position."
   ]
  },
  {
   "cell_type": "markdown",
   "id": "18",
   "metadata": {},
   "source": [
    "| Your Team | Opponent | Points Advantage | Cumulative Total |\n",
    "| --------- | -------- | ---------------- | ---------------- |\n",
    "|PG scores 23 pts| PG scores 20 pts| +3 for you | +3 |\n",
    "|SG scores 7 pts| SG scores 13 pts| -6 for you | -3 |\n",
    "|SF scores 20 pts| SF scores 5 pts| +15 for you | +12 |\n",
    "|PF scores 18 pts| PF scores 19 pts| -1 for you | +11 |\n",
    "|C scores 30 pts| C scores 34 pts| -4 for you | +7 |\n",
    "\n",
    "##### Total Pts = 98 (Your Team); Total Pts = 91 (Opponent)"
   ]
  },
  {
   "cell_type": "markdown",
   "id": "19",
   "metadata": {},
   "source": [
    "# Getting Our Baseline Numbers"
   ]
  },
  {
   "cell_type": "code",
   "execution_count": null,
   "id": "20",
   "metadata": {},
   "outputs": [],
   "source": [
    "import pandas as pd\n",
    "import numpy as np"
   ]
  },
  {
   "cell_type": "code",
   "execution_count": null,
   "id": "21",
   "metadata": {},
   "outputs": [],
   "source": [
    "draft_df = pd.read_csv('../nba-stats-csv/Fantasy Projections - 2018_19 - 2018_espn_draft.csv', header=0)"
   ]
  },
  {
   "cell_type": "code",
   "execution_count": null,
   "id": "22",
   "metadata": {},
   "outputs": [],
   "source": [
    "draft_df.head(5)"
   ]
  },
  {
   "cell_type": "code",
   "execution_count": null,
   "id": "23",
   "metadata": {},
   "outputs": [],
   "source": [
    "df_top_80 = draft_df[draft_df['pick'] <= 80]"
   ]
  },
  {
   "cell_type": "code",
   "execution_count": null,
   "id": "24",
   "metadata": {},
   "outputs": [],
   "source": [
    "df_top_80.tail()"
   ]
  },
  {
   "cell_type": "code",
   "execution_count": null,
   "id": "25",
   "metadata": {},
   "outputs": [],
   "source": [
    "df_top_80.groupby('position').count() # How many players of each position do we have in this draft?"
   ]
  },
  {
   "cell_type": "code",
   "execution_count": null,
   "id": "26",
   "metadata": {},
   "outputs": [],
   "source": [
    "position_dictionary = {\n",
    "    'PG': 21,\n",
    "    'SG': 13,\n",
    "    'SF': 12,\n",
    "    'PF': 19,\n",
    "    'C': 15\n",
    "}"
   ]
  },
  {
   "cell_type": "code",
   "execution_count": null,
   "id": "27",
   "metadata": {},
   "outputs": [],
   "source": [
    "df1 = pd.read_csv('../nba-stats-csv/Fantasy Projections - 2018_19 - 2018_espn_player_positions.csv', header=0)\n",
    "df2 = pd.read_csv('../nba-stats-csv/projected_fantasy_pts_final_2018_19.csv', header=0)"
   ]
  },
  {
   "cell_type": "code",
   "execution_count": null,
   "id": "28",
   "metadata": {},
   "outputs": [],
   "source": [
    "df1.sample()"
   ]
  },
  {
   "cell_type": "code",
   "execution_count": null,
   "id": "29",
   "metadata": {},
   "outputs": [],
   "source": [
    "df2.sample()"
   ]
  },
  {
   "cell_type": "code",
   "execution_count": null,
   "id": "30",
   "metadata": {},
   "outputs": [],
   "source": [
    "df3 = df1.merge(df2, how='left', on='player_id')"
   ]
  },
  {
   "cell_type": "code",
   "execution_count": null,
   "id": "31",
   "metadata": {},
   "outputs": [],
   "source": [
    "df_final = df3[['player_name_x', 'player_id', 'season_id_x', 'espn_position', 'fantasy_pts']]"
   ]
  },
  {
   "cell_type": "code",
   "execution_count": null,
   "id": "32",
   "metadata": {},
   "outputs": [],
   "source": [
    "df_final = df_final.rename(columns={\n",
    "    'player_name_x': 'player_name',\n",
    "    'season_id_x': 'season_id'\n",
    "})"
   ]
  },
  {
   "cell_type": "code",
   "execution_count": null,
   "id": "33",
   "metadata": {},
   "outputs": [],
   "source": [
    "df_final.to_csv('../nba-stats-csv/projected_fantasy_pts_with_positions_2018_19_formatted.csv', index=False)"
   ]
  },
  {
   "cell_type": "code",
   "execution_count": null,
   "id": "34",
   "metadata": {},
   "outputs": [],
   "source": [
    "positions = [\n",
    "    'PG',\n",
    "    'SG',\n",
    "    'SF',\n",
    "    'PF',\n",
    "    'C'\n",
    "]"
   ]
  },
  {
   "cell_type": "code",
   "execution_count": null,
   "id": "35",
   "metadata": {},
   "outputs": [],
   "source": [
    "def calc_baseline(pos, df):\n",
    "    df_filter = df[df['espn_position'] == pos]\n",
    "    x = position_dictionary.get(pos)\n",
    "    replacement_player = df_filter.iloc[x]\n",
    "    value_to_substract = replacement_player['fantasy_pts']\n",
    "    return value_to_substract"
   ]
  },
  {
   "cell_type": "code",
   "execution_count": null,
   "id": "36",
   "metadata": {},
   "outputs": [],
   "source": [
    "baseline_points = {}\n",
    "for pos in positions:\n",
    "    y = calc_baseline(pos, df_final)\n",
    "    baseline_points[pos] = y"
   ]
  },
  {
   "cell_type": "code",
   "execution_count": null,
   "id": "37",
   "metadata": {},
   "outputs": [],
   "source": [
    "baseline_points"
   ]
  },
  {
   "cell_type": "markdown",
   "id": "38",
   "metadata": {},
   "source": [
    "# Draft Preparation"
   ]
  },
  {
   "cell_type": "code",
   "execution_count": null,
   "id": "39",
   "metadata": {},
   "outputs": [],
   "source": [
    "# We can work with model importing our .csv file to spreadsheet or excel and manipulate it"
   ]
  },
  {
   "cell_type": "code",
   "execution_count": null,
   "id": "40",
   "metadata": {},
   "outputs": [],
   "source": []
  }
 ],
 "metadata": {
  "kernelspec": {
   "display_name": "Python 3 (ipykernel)",
   "language": "python",
   "name": "python3"
  },
  "language_info": {
   "codemirror_mode": {
    "name": "ipython",
    "version": 3
   },
   "file_extension": ".py",
   "mimetype": "text/x-python",
   "name": "python",
   "nbconvert_exporter": "python",
   "pygments_lexer": "ipython3",
   "version": "3.12.6"
  }
 },
 "nbformat": 4,
 "nbformat_minor": 5
}
