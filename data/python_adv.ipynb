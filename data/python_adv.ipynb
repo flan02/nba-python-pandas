{
 "cells": [
  {
   "cell_type": "markdown",
   "id": "883d4827-a449-482a-960c-0e7099c19278",
   "metadata": {},
   "source": [
    "# Import Modules"
   ]
  },
  {
   "cell_type": "code",
   "execution_count": 4,
   "id": "9659aa8f-3cfb-4450-805a-f45a1dc0b671",
   "metadata": {},
   "outputs": [],
   "source": [
    "import pandas"
   ]
  },
  {
   "cell_type": "code",
   "execution_count": 5,
   "id": "05c55a67-3300-4146-8b04-9cc919043f04",
   "metadata": {},
   "outputs": [],
   "source": [
    "# pandas.read_csv()"
   ]
  },
  {
   "cell_type": "code",
   "execution_count": 6,
   "id": "3575977e-d98d-4d8b-8dad-7beb3816c9ee",
   "metadata": {},
   "outputs": [],
   "source": [
    "import pandas as pd\n",
    "import numpy as np"
   ]
  },
  {
   "cell_type": "code",
   "execution_count": 7,
   "id": "fbbbf668-7c2d-4d97-b96d-46ae8be64f6b",
   "metadata": {},
   "outputs": [],
   "source": [
    "# pd.read_csv()"
   ]
  },
  {
   "cell_type": "code",
   "execution_count": 12,
   "id": "8c6feadd-907e-411c-9de3-943285f1bfe7",
   "metadata": {},
   "outputs": [],
   "source": [
    "predicted_steals = [4,7,2,1]\n",
    "actual_steals = [5,6,7,1]"
   ]
  },
  {
   "cell_type": "code",
   "execution_count": 13,
   "id": "e390fdd0-ba1f-499e-9860-6bbcaa50f581",
   "metadata": {},
   "outputs": [],
   "source": [
    "from sklearn.metrics import mean_squared_error"
   ]
  },
  {
   "cell_type": "code",
   "execution_count": 14,
   "id": "a891f0d7-c65d-4d15-b347-ee400c48005a",
   "metadata": {},
   "outputs": [],
   "source": [
    "lin_mse = mean_squared_error(predicted_steals, actual_steals)"
   ]
  },
  {
   "cell_type": "code",
   "execution_count": 15,
   "id": "fb99a9f1-76c4-4da0-8339-6601dd885b77",
   "metadata": {},
   "outputs": [
    {
     "data": {
      "text/plain": [
       "np.float64(6.75)"
      ]
     },
     "execution_count": 15,
     "metadata": {},
     "output_type": "execute_result"
    }
   ],
   "source": [
    "lin_mse"
   ]
  },
  {
   "cell_type": "markdown",
   "id": "afe82a71-b148-4097-9c44-b898e40c8f83",
   "metadata": {},
   "source": [
    "# Printing"
   ]
  },
  {
   "cell_type": "code",
   "execution_count": 16,
   "id": "fb82f475-379f-47d8-9513-19917d5b239e",
   "metadata": {},
   "outputs": [
    {
     "name": "stdout",
     "output_type": "stream",
     "text": [
      "Printing this message\n"
     ]
    }
   ],
   "source": [
    "print(\"Printing this message\")"
   ]
  },
  {
   "cell_type": "code",
   "execution_count": 18,
   "id": "d79a449d-d89d-4d2c-9aec-179deb495e00",
   "metadata": {},
   "outputs": [],
   "source": [
    "x = 'Jaylen Brown was the finals MVP in 2024'"
   ]
  },
  {
   "cell_type": "code",
   "execution_count": 19,
   "id": "080e138d-c76c-4243-99ca-6cdcd15fdd50",
   "metadata": {},
   "outputs": [
    {
     "name": "stdout",
     "output_type": "stream",
     "text": [
      "Jaylen Brown was the finals MVP in 2024\n"
     ]
    }
   ],
   "source": [
    "print(x)"
   ]
  },
  {
   "cell_type": "markdown",
   "id": "56455267-246e-4c15-96fb-5d4f5458a871",
   "metadata": {},
   "source": [
    "# Variables & raw input"
   ]
  },
  {
   "cell_type": "code",
   "execution_count": 17,
   "id": "b717f9f0-80ec-48fb-8f79-89a68742f0be",
   "metadata": {},
   "outputs": [],
   "source": [
    "goat = 'Jaylen Brown'"
   ]
  },
  {
   "cell_type": "code",
   "execution_count": 16,
   "id": "977b8ed1-0d63-4854-996c-be882d470c72",
   "metadata": {},
   "outputs": [],
   "source": [
    "ppg = 28.3"
   ]
  },
  {
   "cell_type": "code",
   "execution_count": null,
   "id": "bdc3dd40-9b66-42f1-ae39-7a1e3bde7a35",
   "metadata": {},
   "outputs": [],
   "source": [
    "print(goat)"
   ]
  },
  {
   "cell_type": "code",
   "execution_count": 18,
   "id": "0857bfd4-fc7b-49ca-97f0-a77f3f7c916c",
   "metadata": {},
   "outputs": [
    {
     "name": "stdout",
     "output_type": "stream",
     "text": [
      "28.3\n"
     ]
    }
   ],
   "source": [
    "print(ppg)"
   ]
  },
  {
   "cell_type": "code",
   "execution_count": 19,
   "id": "0446ff79-fc3d-41dd-8c56-3429dc461330",
   "metadata": {},
   "outputs": [],
   "source": [
    "goat = 'Jayson Tatum'"
   ]
  },
  {
   "cell_type": "code",
   "execution_count": 20,
   "id": "48b018d5-c253-4617-b23f-fee4233d1f51",
   "metadata": {},
   "outputs": [
    {
     "name": "stdout",
     "output_type": "stream",
     "text": [
      "Jayson Tatum\n"
     ]
    }
   ],
   "source": [
    "print(goat)"
   ]
  },
  {
   "cell_type": "code",
   "execution_count": 25,
   "id": "edbb54a8-f05e-4534-8eba-e2fae111617e",
   "metadata": {},
   "outputs": [],
   "source": [
    "# Variables are case sensitive !\n",
    "kobe = 8\n",
    "KOBE = 24\n",
    "KoBe = '8 and 24'"
   ]
  },
  {
   "cell_type": "code",
   "execution_count": 23,
   "id": "b70c6557-2762-4b01-b2fe-4c876d245e40",
   "metadata": {},
   "outputs": [
    {
     "name": "stdout",
     "output_type": "stream",
     "text": [
      "8 24 8 and 24\n"
     ]
    }
   ],
   "source": [
    "print(kobe, KOBE, KoBe)"
   ]
  },
  {
   "cell_type": "code",
   "execution_count": 26,
   "id": "3591ef9f-725d-4acd-8213-73b4cd63fed7",
   "metadata": {},
   "outputs": [
    {
     "data": {
      "text/plain": [
       "str"
      ]
     },
     "execution_count": 26,
     "metadata": {},
     "output_type": "execute_result"
    }
   ],
   "source": [
    "type(goat)"
   ]
  },
  {
   "cell_type": "code",
   "execution_count": 27,
   "id": "05bfedc4-387e-4e05-816d-c09e788c78f6",
   "metadata": {},
   "outputs": [
    {
     "data": {
      "text/plain": [
       "float"
      ]
     },
     "execution_count": 27,
     "metadata": {},
     "output_type": "execute_result"
    }
   ],
   "source": [
    "type(ppg)"
   ]
  },
  {
   "cell_type": "markdown",
   "id": "c8b5be17-5aa4-4179-ba2c-48405113f6dc",
   "metadata": {},
   "source": [
    "# List & Disctionaries"
   ]
  },
  {
   "cell_type": "code",
   "execution_count": 1,
   "id": "2758a53d-55e9-4b89-9845-a667c5d755f2",
   "metadata": {},
   "outputs": [],
   "source": [
    "season_list = ['2014-15', '2015-16', '2016-17']"
   ]
  },
  {
   "cell_type": "code",
   "execution_count": 2,
   "id": "9a740bbe-096a-460c-851e-d4df671fa44a",
   "metadata": {},
   "outputs": [
    {
     "data": {
      "text/plain": [
       "list"
      ]
     },
     "execution_count": 2,
     "metadata": {},
     "output_type": "execute_result"
    }
   ],
   "source": [
    "type(season_list)"
   ]
  },
  {
   "cell_type": "code",
   "execution_count": 3,
   "id": "2ff03e60-e36c-4a60-9cf4-394d0adc3d05",
   "metadata": {},
   "outputs": [
    {
     "data": {
      "text/plain": [
       "3"
      ]
     },
     "execution_count": 3,
     "metadata": {},
     "output_type": "execute_result"
    }
   ],
   "source": [
    "len(season_list)"
   ]
  },
  {
   "cell_type": "code",
   "execution_count": 4,
   "id": "cb881e34-9862-433d-8737-635f14b759ac",
   "metadata": {},
   "outputs": [
    {
     "name": "stdout",
     "output_type": "stream",
     "text": [
      "2016-17\n"
     ]
    }
   ],
   "source": [
    "print(season_list[2])"
   ]
  },
  {
   "cell_type": "code",
   "execution_count": 5,
   "id": "601c9551-b590-47f4-a272-009319239860",
   "metadata": {},
   "outputs": [
    {
     "data": {
      "text/plain": [
       "['2015-16', '2016-17']"
      ]
     },
     "execution_count": 5,
     "metadata": {},
     "output_type": "execute_result"
    }
   ],
   "source": [
    "season_list[1:3]"
   ]
  },
  {
   "cell_type": "code",
   "execution_count": 6,
   "id": "f7b9f025-1ae1-4396-a682-50870eafb7c9",
   "metadata": {},
   "outputs": [
    {
     "data": {
      "text/plain": [
       "['2014-15', '2015-16']"
      ]
     },
     "execution_count": 6,
     "metadata": {},
     "output_type": "execute_result"
    }
   ],
   "source": [
    "season_list[0:2]"
   ]
  },
  {
   "cell_type": "code",
   "execution_count": 8,
   "id": "a399effb-44d3-48eb-8d29-45008ea57349",
   "metadata": {},
   "outputs": [],
   "source": [
    "season_list.append('2017-18')"
   ]
  },
  {
   "cell_type": "code",
   "execution_count": 9,
   "id": "abeb2d7e-648d-48f3-8732-65f0949e4f12",
   "metadata": {},
   "outputs": [
    {
     "name": "stdout",
     "output_type": "stream",
     "text": [
      "['2014-15', '2015-16', '2016-17', '2017-18', '2017-18']\n"
     ]
    }
   ],
   "source": [
    "print(season_list)"
   ]
  },
  {
   "cell_type": "code",
   "execution_count": 10,
   "id": "f02b4422-0c52-4491-9148-ad5056d5e4f8",
   "metadata": {},
   "outputs": [],
   "source": [
    "banana_boat = ['Lebron James', 'Chris Bosh', 'Dwayne Wade']"
   ]
  },
  {
   "cell_type": "code",
   "execution_count": 12,
   "id": "00b07ee6-b19e-4807-b5b2-24ae96b9bd34",
   "metadata": {},
   "outputs": [],
   "source": [
    "new_member = 'Carmelo Anthony'"
   ]
  },
  {
   "cell_type": "code",
   "execution_count": 13,
   "id": "9fc569e1-5cea-4339-b59e-46502ed11f34",
   "metadata": {},
   "outputs": [],
   "source": [
    "banana_boat.append(new_member)"
   ]
  },
  {
   "cell_type": "code",
   "execution_count": 15,
   "id": "b45c29b1-cecb-46cc-a9b7-1bfdcc14f652",
   "metadata": {},
   "outputs": [
    {
     "data": {
      "text/plain": [
       "4"
      ]
     },
     "execution_count": 15,
     "metadata": {},
     "output_type": "execute_result"
    }
   ],
   "source": [
    "len(banana_boat)"
   ]
  },
  {
   "cell_type": "markdown",
   "id": "b712c4cc-b2ca-4218-9db5-3c012c0b36e0",
   "metadata": {},
   "source": [
    "# Dictionaries"
   ]
  },
  {
   "cell_type": "code",
   "execution_count": 29,
   "id": "a84923e5-0036-4210-af9a-135f478203df",
   "metadata": {},
   "outputs": [],
   "source": [
    "jb_dict = {\n",
    "    'player_name': 'Jaylen Brown',\n",
    "    'team': 'Boston Celtics',\n",
    "    'player_id': 2701,\n",
    "    'season_id': '2024-25',\n",
    "    'ppg': 26.8\n",
    "}"
   ]
  },
  {
   "cell_type": "code",
   "execution_count": 30,
   "id": "478eb25a-2053-4a64-8827-4144fda1cd23",
   "metadata": {},
   "outputs": [
    {
     "data": {
      "text/plain": [
       "{'player_name': 'Jaylen Brown',\n",
       " 'team': 'Boston Celtics',\n",
       " 'player_id': 2701,\n",
       " 'season_id': '2024-25',\n",
       " 'ppg': 26.8}"
      ]
     },
     "execution_count": 30,
     "metadata": {},
     "output_type": "execute_result"
    }
   ],
   "source": [
    "jb_dict"
   ]
  },
  {
   "cell_type": "code",
   "execution_count": 32,
   "id": "64323a43-53ce-45d6-ae90-7e0cdb098a50",
   "metadata": {},
   "outputs": [],
   "source": [
    "team = jb_dict['team']"
   ]
  },
  {
   "cell_type": "code",
   "execution_count": 33,
   "id": "6ece9953-9d4e-4dae-a454-8048d55e4843",
   "metadata": {},
   "outputs": [
    {
     "name": "stdout",
     "output_type": "stream",
     "text": [
      "Boston Celtics\n"
     ]
    }
   ],
   "source": [
    "print(team)"
   ]
  },
  {
   "cell_type": "code",
   "execution_count": 34,
   "id": "8a2b4214-eee1-41a9-a3fb-c62e2407a64a",
   "metadata": {},
   "outputs": [],
   "source": [
    "ppg = jb_dict['ppg']"
   ]
  },
  {
   "cell_type": "code",
   "execution_count": 35,
   "id": "300fa6e5-41a0-449a-ac94-bbe2deab77e3",
   "metadata": {},
   "outputs": [
    {
     "name": "stdout",
     "output_type": "stream",
     "text": [
      "26.8\n"
     ]
    }
   ],
   "source": [
    "print(ppg)"
   ]
  },
  {
   "cell_type": "code",
   "execution_count": 36,
   "id": "a1720a00-4088-4e60-a812-c5804bbfbfac",
   "metadata": {},
   "outputs": [],
   "source": [
    "jb_stats = {\n",
    "    'points': 26.8,\n",
    "    'rebounds': 6.7,\n",
    "    'assists': 5.1\n",
    "}"
   ]
  },
  {
   "cell_type": "code",
   "execution_count": 37,
   "id": "d75efb7b-8e12-46f3-b913-43cb03728b0e",
   "metadata": {},
   "outputs": [
    {
     "name": "stdout",
     "output_type": "stream",
     "text": [
      "{'points': 26.8, 'rebounds': 6.7, 'assists': 5.1}\n"
     ]
    }
   ],
   "source": [
    "print(jb_stats)"
   ]
  },
  {
   "cell_type": "code",
   "execution_count": 38,
   "id": "7336dea9-8d0a-42bf-966f-76df8e3d5531",
   "metadata": {},
   "outputs": [
    {
     "data": {
      "text/plain": [
       "5.1"
      ]
     },
     "execution_count": 38,
     "metadata": {},
     "output_type": "execute_result"
    }
   ],
   "source": [
    "jb_stats['assists']"
   ]
  },
  {
   "cell_type": "markdown",
   "id": "b28a0592-00df-4b9d-bff7-c0728ceea8b1",
   "metadata": {},
   "source": [
    "# For Loops"
   ]
  },
  {
   "cell_type": "code",
   "execution_count": 40,
   "id": "1d8a67f4-a42c-4356-9a1d-d0844793bbb8",
   "metadata": {},
   "outputs": [],
   "source": [
    "nba_players = ['Baron Davis', 'Stromile Swift', 'Yao Ming']"
   ]
  },
  {
   "cell_type": "code",
   "execution_count": 41,
   "id": "0938b7c5-aac0-4987-9d23-b773638a7820",
   "metadata": {},
   "outputs": [
    {
     "data": {
      "text/plain": [
       "['Baron Davis', 'Stromile Swift', 'Yao Ming']"
      ]
     },
     "execution_count": 41,
     "metadata": {},
     "output_type": "execute_result"
    }
   ],
   "source": [
    "nba_players"
   ]
  },
  {
   "cell_type": "code",
   "execution_count": 42,
   "id": "aa77751e-c2e9-45f5-a34c-d18c928235bb",
   "metadata": {},
   "outputs": [
    {
     "data": {
      "text/plain": [
       "list"
      ]
     },
     "execution_count": 42,
     "metadata": {},
     "output_type": "execute_result"
    }
   ],
   "source": [
    "type(nba_players)"
   ]
  },
  {
   "cell_type": "code",
   "execution_count": 44,
   "id": "bb9dd7a2-b496-4b3a-8b7e-6ef7e565878a",
   "metadata": {},
   "outputs": [
    {
     "name": "stdout",
     "output_type": "stream",
     "text": [
      "Baron Davis\n",
      "Stromile Swift\n",
      "Yao Ming\n"
     ]
    }
   ],
   "source": [
    "for player in nba_players:\n",
    "    print(player)"
   ]
  },
  {
   "cell_type": "code",
   "execution_count": 45,
   "id": "4caa179c-11bf-4f21-9b42-79f075107853",
   "metadata": {},
   "outputs": [
    {
     "name": "stdout",
     "output_type": "stream",
     "text": [
      "Baron Davis\n",
      "Stromile Swift\n"
     ]
    }
   ],
   "source": [
    "for player in nba_players:\n",
    "    print(player)\n",
    "    if player == 'Stromile Swift':\n",
    "        break"
   ]
  },
  {
   "cell_type": "code",
   "execution_count": 51,
   "id": "15913f33-23ea-46a0-a4c2-bf7e0b696b9a",
   "metadata": {},
   "outputs": [
    {
     "name": "stdout",
     "output_type": "stream",
     "text": [
      "Baron Davis\n",
      "Yao Ming\n"
     ]
    }
   ],
   "source": [
    "# Looping a list\n",
    "for player in nba_players:\n",
    "    if player == 'Stromile Swift':\n",
    "        continue\n",
    "    print(player)"
   ]
  },
  {
   "cell_type": "code",
   "execution_count": 47,
   "id": "d7b18631-2167-4890-84f4-4ace5a9decea",
   "metadata": {},
   "outputs": [],
   "source": [
    "jb_dict = {\n",
    "    'player_name': 'Jaylen Brown',\n",
    "    'team': 'Boston Celtics',\n",
    "    'player_id': 2701,\n",
    "    'season_id': '2024-25',\n",
    "    'ppg': 26.8\n",
    "}"
   ]
  },
  {
   "cell_type": "code",
   "execution_count": 50,
   "id": "6682edd5-00f4-4399-89b3-46d159a52265",
   "metadata": {},
   "outputs": [
    {
     "name": "stdout",
     "output_type": "stream",
     "text": [
      "player_name Jaylen Brown\n",
      "team Boston Celtics\n",
      "player_id 2701\n",
      "season_id 2024-25\n",
      "ppg 26.8\n"
     ]
    }
   ],
   "source": [
    "# Looping a dictionary\n",
    "for k,v in jb_dict.items():\n",
    "    print(k, v) # k = key | v = value"
   ]
  },
  {
   "cell_type": "markdown",
   "id": "57ae9597-d9a2-4757-921b-9becf58cea07",
   "metadata": {},
   "source": [
    "# IF-ELSE Statements"
   ]
  },
  {
   "cell_type": "code",
   "execution_count": 59,
   "id": "ce0669a3-6b1f-4511-8821-1887f9ac5797",
   "metadata": {},
   "outputs": [],
   "source": [
    "harden_ppg = 36\n",
    "durant_ppg = 32.4"
   ]
  },
  {
   "cell_type": "code",
   "execution_count": 60,
   "id": "a49f22c8-8b4d-4b87-be71-c16d8829f884",
   "metadata": {},
   "outputs": [
    {
     "name": "stdout",
     "output_type": "stream",
     "text": [
      "Harden score more than Durant on average\n"
     ]
    }
   ],
   "source": [
    "if harden_ppg > durant_ppg:\n",
    "    print('Harden score more than Durant on average')\n",
    "else:\n",
    "    print('Durant is a better scorer than Durant')"
   ]
  },
  {
   "cell_type": "code",
   "execution_count": 61,
   "id": "09c75060-0985-4754-a402-81da6e1814d2",
   "metadata": {},
   "outputs": [],
   "source": [
    "klay_ft = 81.4\n",
    "klay_3p = 40.3\n",
    "steph_ft = 91.2\n",
    "steph_3p = 43.5"
   ]
  },
  {
   "cell_type": "code",
   "execution_count": 63,
   "id": "ff986beb-9287-4df6-835c-ba390a9d9d98",
   "metadata": {},
   "outputs": [
    {
     "name": "stdout",
     "output_type": "stream",
     "text": [
      "Steph is the better shooter overall\n"
     ]
    }
   ],
   "source": [
    "if steph_ft > klay_ft and steph_3p > klay_3p:\n",
    "    print('Steph is the better shooter overall')"
   ]
  },
  {
   "cell_type": "code",
   "execution_count": 64,
   "id": "cbb0c07c-26ff-4ffc-9876-e385fc68b5cd",
   "metadata": {},
   "outputs": [],
   "source": [
    "league_avg_ft = 76.7\n",
    "steph_ft = 91.2\n",
    "deandre_ft = 70.5"
   ]
  },
  {
   "cell_type": "code",
   "execution_count": 66,
   "id": "95d7d233-cd6f-4204-a945-5b2aea8ce37b",
   "metadata": {},
   "outputs": [
    {
     "name": "stdout",
     "output_type": "stream",
     "text": [
      "At least one of these players shoots better that league average\n"
     ]
    }
   ],
   "source": [
    "if league_avg_ft < steph_ft or league_avg_ft > deandre_ft:\n",
    "    print('At least one of these players shoots better that league average')"
   ]
  },
  {
   "cell_type": "code",
   "execution_count": 67,
   "id": "0930c37c-4e05-4dca-bbef-bef9112ad798",
   "metadata": {},
   "outputs": [
    {
     "name": "stdout",
     "output_type": "stream",
     "text": [
      "At least one of these players shoots worse that league average\n"
     ]
    }
   ],
   "source": [
    "if league_avg_ft < steph_ft or league_avg_ft < deandre_ft:\n",
    "    print('At least one of these players shoots worse that league average')"
   ]
  },
  {
   "cell_type": "markdown",
   "id": "3d6009b1-afb2-449a-9ed7-dcf64464198d",
   "metadata": {},
   "source": [
    "# Functions"
   ]
  },
  {
   "cell_type": "code",
   "execution_count": 26,
   "id": "1ff8e52c-84a0-4bc5-a2e4-5829e4a8a391",
   "metadata": {},
   "outputs": [],
   "source": [
    "# Function that calculates points per game\n",
    "def points_per_game(total_points, games_played):\n",
    "    ppg = total_points / games_played\n",
    "    round(ppg, 2) # it doesn't work inside the fc, check why later...\n",
    "    return ppg"
   ]
  },
  {
   "cell_type": "code",
   "execution_count": 17,
   "id": "3322a489-eb2b-46bd-82e1-05e2b6476f4a",
   "metadata": {},
   "outputs": [],
   "source": [
    "get_ppg = points_per_game(424, 15)"
   ]
  },
  {
   "cell_type": "code",
   "execution_count": 18,
   "id": "65c909dc-a3b0-4a15-a5df-cca0ab1a8c98",
   "metadata": {},
   "outputs": [
    {
     "name": "stdout",
     "output_type": "stream",
     "text": [
      "28.266666666666666\n"
     ]
    }
   ],
   "source": [
    "print(get_ppg)"
   ]
  },
  {
   "cell_type": "code",
   "execution_count": 19,
   "id": "73412b67-2501-403a-9cee-eb39b9c17f0d",
   "metadata": {},
   "outputs": [],
   "source": [
    "jaylen_brown_total_points = 1825\n",
    "jaylen_brown_total_games = 77"
   ]
  },
  {
   "cell_type": "code",
   "execution_count": 20,
   "id": "cb591ba8-9298-4bb0-a2af-6b5f40feb25f",
   "metadata": {},
   "outputs": [],
   "source": [
    "jaylen_brown_ppg = points_per_game(jaylen_brown_total_points, jaylen_brown_total_games)"
   ]
  },
  {
   "cell_type": "code",
   "execution_count": 25,
   "id": "7c3fb34b-1395-4a14-8150-fa4082962242",
   "metadata": {},
   "outputs": [
    {
     "name": "stdout",
     "output_type": "stream",
     "text": [
      "23.7\n"
     ]
    }
   ],
   "source": [
    "print(round(jaylen_brown_ppg,2))"
   ]
  },
  {
   "cell_type": "markdown",
   "id": "d34eb89a-51cd-41af-8ef0-53bd6314d64e",
   "metadata": {},
   "source": [
    "# Arrays"
   ]
  },
  {
   "cell_type": "code",
   "execution_count": 28,
   "id": "0a40900a-835d-4383-8689-6b653270cd62",
   "metadata": {},
   "outputs": [],
   "source": [
    "import numpy as np"
   ]
  },
  {
   "cell_type": "code",
   "execution_count": 30,
   "id": "a189a39f-f338-443c-8d35-f49e688938d5",
   "metadata": {},
   "outputs": [],
   "source": [
    "# Embiid pts, rebs, blks\n",
    "embiid_2021_stats = np.array([2007, 323, 92])\n",
    "embiid_2022_stats = np.array([1851, 240, 77])\n",
    "embiid_2023_stats = np.array([1985, 288, 81])\n",
    "embiid_2024_stats = np.array([1644, 183, 55])"
   ]
  },
  {
   "cell_type": "code",
   "execution_count": 31,
   "id": "03ccd58a-6d04-4205-bee0-960f9e3164c2",
   "metadata": {},
   "outputs": [],
   "source": [
    "embiid_career_stats = (embiid_2021_stats + embiid_2022_stats + embiid_2023_stats + embiid_2024_stats)"
   ]
  },
  {
   "cell_type": "code",
   "execution_count": 33,
   "id": "8e0ebb4e-283d-49f7-94e4-11790c6fc930",
   "metadata": {},
   "outputs": [],
   "source": [
    "total_gp = (71 + 62 + 57 + 36)"
   ]
  },
  {
   "cell_type": "code",
   "execution_count": 34,
   "id": "56e55649-bab3-4fa6-bf24-4e3540ebc32b",
   "metadata": {},
   "outputs": [
    {
     "data": {
      "text/plain": [
       "array([33.12831858,  4.57522124,  1.34955752])"
      ]
     },
     "execution_count": 34,
     "metadata": {},
     "output_type": "execute_result"
    }
   ],
   "source": [
    "embiid_career_stats / total_gp"
   ]
  },
  {
   "cell_type": "code",
   "execution_count": null,
   "id": "0ee1a3fc-f38e-4697-bcba-7c7dfa7c2b38",
   "metadata": {},
   "outputs": [],
   "source": []
  }
 ],
 "metadata": {
  "kernelspec": {
   "display_name": "Python 3 (ipykernel)",
   "language": "python",
   "name": "python3"
  },
  "language_info": {
   "codemirror_mode": {
    "name": "ipython",
    "version": 3
   },
   "file_extension": ".py",
   "mimetype": "text/x-python",
   "name": "python",
   "nbconvert_exporter": "python",
   "pygments_lexer": "ipython3",
   "version": "3.12.6"
  }
 },
 "nbformat": 4,
 "nbformat_minor": 5
}
