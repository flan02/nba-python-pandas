{
 "cells": [
  {
   "cell_type": "markdown",
   "id": "0",
   "metadata": {},
   "source": [
    "# Using RMSE to Evaluate Our Model"
   ]
  },
  {
   "cell_type": "code",
   "execution_count": null,
   "id": "1",
   "metadata": {},
   "outputs": [],
   "source": [
    "import pandas as pd\n",
    "import numpy as np"
   ]
  },
  {
   "cell_type": "code",
   "execution_count": null,
   "id": "2",
   "metadata": {},
   "outputs": [],
   "source": [
    "# RMSE = Root Media Square Error"
   ]
  },
  {
   "cell_type": "code",
   "execution_count": null,
   "id": "3",
   "metadata": {},
   "outputs": [],
   "source": [
    "proj_df = pd.read_csv('../nba-stats-csv/player_proj_df.csv')\n",
    "proj_df.head()"
   ]
  },
  {
   "cell_type": "code",
   "execution_count": null,
   "id": "4",
   "metadata": {},
   "outputs": [],
   "source": [
    "proj_df['squared_error'] = (proj_df['proj_pts'] - proj_df['pts'])**(2) "
   ]
  },
  {
   "cell_type": "code",
   "execution_count": null,
   "id": "5",
   "metadata": {},
   "outputs": [],
   "source": [
    "mse = proj_df['squared_error'].mean()  # MEAN SQUARED ERROR"
   ]
  },
  {
   "cell_type": "code",
   "execution_count": null,
   "id": "6",
   "metadata": {},
   "outputs": [],
   "source": [
    "rmse = mse ** (1/2)"
   ]
  },
  {
   "cell_type": "code",
   "execution_count": null,
   "id": "7",
   "metadata": {},
   "outputs": [],
   "source": [
    "rmse"
   ]
  },
  {
   "cell_type": "code",
   "execution_count": null,
   "id": "8",
   "metadata": {},
   "outputs": [],
   "source": [
    "proj_df['squared_error'] = (proj_df['proj_ast'] - proj_df['ast'])**(2)"
   ]
  },
  {
   "cell_type": "code",
   "execution_count": null,
   "id": "9",
   "metadata": {},
   "outputs": [],
   "source": [
    "mse = proj_df['squared_error'].mean()"
   ]
  },
  {
   "cell_type": "code",
   "execution_count": null,
   "id": "10",
   "metadata": {},
   "outputs": [],
   "source": [
    "rmse = mse ** (1/2)"
   ]
  },
  {
   "cell_type": "code",
   "execution_count": null,
   "id": "11",
   "metadata": {},
   "outputs": [],
   "source": [
    "rmse"
   ]
  },
  {
   "cell_type": "code",
   "execution_count": null,
   "id": "12",
   "metadata": {},
   "outputs": [],
   "source": [
    "from sklearn.metrics import mean_squared_error\n",
    "from math import sqrt"
   ]
  },
  {
   "cell_type": "code",
   "execution_count": null,
   "id": "13",
   "metadata": {},
   "outputs": [],
   "source": [
    "player_proj = pd.read_csv('../nba-stats-csv/player_proj_df.csv')\n",
    "player_info = pd.read_csv('../nba-stats-csv/player_info_df.csv')"
   ]
  },
  {
   "cell_type": "code",
   "execution_count": null,
   "id": "14",
   "metadata": {},
   "outputs": [],
   "source": [
    "player_proj.sample(5)"
   ]
  },
  {
   "cell_type": "code",
   "execution_count": null,
   "id": "15",
   "metadata": {},
   "outputs": [],
   "source": [
    "df_real = player_proj.loc[:, ['pts','min','fgm','fga','fg3m','fg3a','ftm','fta','oreb','dreb','ast','tov','blk']]"
   ]
  },
  {
   "cell_type": "code",
   "execution_count": null,
   "id": "16",
   "metadata": {},
   "outputs": [],
   "source": [
    "df_proj = player_proj.loc[:, ['proj_pts','proj_min','proj_fgm','proj_fga','proj_fg3m','proj_fg3a','proj_ftm','proj_fta','proj_oreb','proj_dreb','proj_ast','proj_tov','proj_blk']]"
   ]
  },
  {
   "cell_type": "code",
   "execution_count": null,
   "id": "17",
   "metadata": {},
   "outputs": [],
   "source": [
    "df_real.sample(5)"
   ]
  },
  {
   "cell_type": "code",
   "execution_count": null,
   "id": "18",
   "metadata": {},
   "outputs": [],
   "source": [
    "df_proj.sample(5)"
   ]
  },
  {
   "cell_type": "code",
   "execution_count": null,
   "id": "19",
   "metadata": {},
   "outputs": [],
   "source": [
    "se = mean_squared_error(df_real, df_proj)"
   ]
  },
  {
   "cell_type": "code",
   "execution_count": null,
   "id": "20",
   "metadata": {},
   "outputs": [],
   "source": [
    "mse = np.mean(se)"
   ]
  },
  {
   "cell_type": "code",
   "execution_count": null,
   "id": "21",
   "metadata": {},
   "outputs": [],
   "source": [
    "rmse = np.sqrt(mse)"
   ]
  },
  {
   "cell_type": "code",
   "execution_count": null,
   "id": "22",
   "metadata": {},
   "outputs": [],
   "source": [
    "confidence = rmse"
   ]
  },
  {
   "cell_type": "code",
   "execution_count": null,
   "id": "23",
   "metadata": {},
   "outputs": [],
   "source": [
    "print('{0} percent confidence in projected {1} per game stats'.format(100 - round(confidence, 2), '2018-19'))"
   ]
  },
  {
   "cell_type": "code",
   "execution_count": null,
   "id": "24",
   "metadata": {},
   "outputs": [],
   "source": [
    "df_real_stats = pd.concat([player_info, df_real], axis=1)"
   ]
  },
  {
   "cell_type": "code",
   "execution_count": null,
   "id": "25",
   "metadata": {},
   "outputs": [],
   "source": [
    "df_real_stats.sample(5)"
   ]
  },
  {
   "cell_type": "code",
   "execution_count": null,
   "id": "26",
   "metadata": {},
   "outputs": [],
   "source": [
    "df_real_stats.rename(columns =\n",
    "                    {'proj_season_id' : 'season_id'}, inplace=True)"
   ]
  },
  {
   "cell_type": "code",
   "execution_count": null,
   "id": "27",
   "metadata": {},
   "outputs": [],
   "source": [
    "df_proj_stats = pd.concat([player_info, df_proj], axis=1)"
   ]
  },
  {
   "cell_type": "code",
   "execution_count": null,
   "id": "28",
   "metadata": {},
   "outputs": [],
   "source": [
    "df_proj_stats.rename(columns =\n",
    "                     {\n",
    "                         'proj_season_id' : 'season_id',\n",
    "                         'proj_pts' : 'pts',\n",
    "                         'proj_min' : 'min',\n",
    "                         'proj_fgm' : 'fgm',\n",
    "                         'proj_fga' : 'fga',\n",
    "                         'proj_fg3m' : 'fg3m',\n",
    "                         'proj_fg3a' : 'fg3a',\n",
    "                         'proj_ftm' : 'ftm',\n",
    "                         'proj_fta' : 'fta',\n",
    "                         'proj_oreb' : 'oreb',\n",
    "                         'proj_dreb' : 'dreb',\n",
    "                         'proj_ast' : 'ast',\n",
    "                         'proj_stl' : 'stl',\n",
    "                         'proj_tov' : 'tov',\n",
    "                         'proj_blk' : 'blk'\n",
    "                     }, inplace=True\n",
    "                    )"
   ]
  },
  {
   "cell_type": "code",
   "execution_count": null,
   "id": "29",
   "metadata": {},
   "outputs": [],
   "source": [
    "display(df_real_stats.head(5)) # Shows normalized projected stats for the next season"
   ]
  },
  {
   "cell_type": "code",
   "execution_count": null,
   "id": "30",
   "metadata": {},
   "outputs": [],
   "source": [
    "display(round(df_proj_stats, 1).head(5))"
   ]
  },
  {
   "cell_type": "markdown",
   "id": "31",
   "metadata": {},
   "source": [
    "# Comparing to Competitors"
   ]
  },
  {
   "cell_type": "code",
   "execution_count": null,
   "id": "32",
   "metadata": {},
   "outputs": [],
   "source": [
    "import pandas as pd\n",
    "import numpy as np"
   ]
  },
  {
   "cell_type": "code",
   "execution_count": null,
   "id": "33",
   "metadata": {},
   "outputs": [],
   "source": [
    "player_proj = pd.read_csv('../nba-stats-csv/player_proj_df.csv')"
   ]
  },
  {
   "cell_type": "code",
   "execution_count": null,
   "id": "34",
   "metadata": {},
   "outputs": [],
   "source": [
    "columns = [\n",
    "    'player_name',\n",
    "    'player_id',\n",
    "    'proj_pts',\n",
    "    'proj_min',\n",
    "    'proj_fgm',\n",
    "    'proj_fga',\n",
    "    'proj_fg3m',\n",
    "    'proj_fg3a',\n",
    "    'proj_ftm',\n",
    "    'proj_fta',\n",
    "    'proj_oreb',\n",
    "    'proj_dreb',\n",
    "    'proj_ast',\n",
    "    'proj_stl',\n",
    "    'proj_tov',\n",
    "    'proj_blk'                     \n",
    "]"
   ]
  },
  {
   "cell_type": "code",
   "execution_count": null,
   "id": "35",
   "metadata": {},
   "outputs": [],
   "source": [
    "df_proj_final = player_proj.loc[:, columns]"
   ]
  },
  {
   "cell_type": "code",
   "execution_count": null,
   "id": "36",
   "metadata": {},
   "outputs": [],
   "source": [
    "df_proj_final['proj_reb'] = df_proj_final['proj_oreb'] + df_proj_final['proj_dreb']"
   ]
  },
  {
   "cell_type": "code",
   "execution_count": null,
   "id": "37",
   "metadata": {},
   "outputs": [],
   "source": [
    "df_proj_final['proj_fg%'] = df_proj_final['proj_fgm'] / df_proj_final['proj_fga']\n",
    "df_proj_final['proj_ft%'] = df_proj_final['proj_ftm'] / df_proj_final['proj_fta']"
   ]
  },
  {
   "cell_type": "code",
   "execution_count": null,
   "id": "38",
   "metadata": {},
   "outputs": [],
   "source": [
    "df_proj_final.tail(5)"
   ]
  },
  {
   "cell_type": "code",
   "execution_count": null,
   "id": "39",
   "metadata": {},
   "outputs": [],
   "source": [
    "final_columns = [\n",
    "    'player_name',\n",
    "    'player_id',\n",
    "    'proj_pts',\n",
    "    'proj_reb',\n",
    "    'proj_ast',\n",
    "    'proj_blk',\n",
    "    'proj_stl',\n",
    "    'proj_fg%',\n",
    "    'proj_ft%',\n",
    "    'proj_fg3m',\n",
    "    'proj_min',\n",
    "    'proj_tov'                 \n",
    "]"
   ]
  },
  {
   "cell_type": "code",
   "execution_count": null,
   "id": "40",
   "metadata": {},
   "outputs": [],
   "source": [
    "df_proj_final = df_proj_final[final_columns]"
   ]
  },
  {
   "cell_type": "code",
   "execution_count": null,
   "id": "41",
   "metadata": {},
   "outputs": [],
   "source": [
    "df_competitor = pd.read_csv('../nba-stats-csv/ESPN_CBS_FantasyPros_Fantasy_Basketball_Overall_2018_Average_Projections.csv')"
   ]
  },
  {
   "cell_type": "code",
   "execution_count": null,
   "id": "42",
   "metadata": {},
   "outputs": [],
   "source": [
    "df_competitor.sample(5)"
   ]
  },
  {
   "cell_type": "code",
   "execution_count": null,
   "id": "43",
   "metadata": {},
   "outputs": [],
   "source": [
    "columns_to_drop = [\n",
    "'Team',\n",
    "'Positions',\n",
    "'GP'\n",
    "]"
   ]
  },
  {
   "cell_type": "code",
   "execution_count": null,
   "id": "44",
   "metadata": {},
   "outputs": [],
   "source": [
    "df_competitor.drop(columns = columns_to_drop, inplace = True)"
   ]
  },
  {
   "cell_type": "code",
   "execution_count": null,
   "id": "45",
   "metadata": {},
   "outputs": [],
   "source": [
    "df_competitor.sample(5)"
   ]
  },
  {
   "cell_type": "code",
   "execution_count": null,
   "id": "46",
   "metadata": {},
   "outputs": [],
   "source": [
    "lowercase_names = df_competitor['Player'].str.lower()"
   ]
  },
  {
   "cell_type": "code",
   "execution_count": null,
   "id": "47",
   "metadata": {},
   "outputs": [],
   "source": [
    "df_competitor['Player'] = lowercase_names"
   ]
  },
  {
   "cell_type": "code",
   "execution_count": null,
   "id": "48",
   "metadata": {},
   "outputs": [],
   "source": [
    "df_competitor.sample(5)"
   ]
  },
  {
   "cell_type": "code",
   "execution_count": null,
   "id": "49",
   "metadata": {},
   "outputs": [],
   "source": [
    "player_info = pd.read_csv('../nba-stats-csv/player_info_df.csv')\n"
   ]
  },
  {
   "cell_type": "code",
   "execution_count": null,
   "id": "50",
   "metadata": {},
   "outputs": [],
   "source": [
    "season = player_info['proj_season_id'] == '2018-19'"
   ]
  },
  {
   "cell_type": "code",
   "execution_count": null,
   "id": "51",
   "metadata": {},
   "outputs": [],
   "source": [
    "player_df = player_info[season]"
   ]
  },
  {
   "cell_type": "code",
   "execution_count": null,
   "id": "52",
   "metadata": {},
   "outputs": [],
   "source": [
    "lowercase = player_df['player_name'].str.lower()"
   ]
  },
  {
   "cell_type": "code",
   "execution_count": null,
   "id": "53",
   "metadata": {},
   "outputs": [],
   "source": [
    "player_df['player_name'] = lowercase"
   ]
  },
  {
   "cell_type": "code",
   "execution_count": null,
   "id": "54",
   "metadata": {},
   "outputs": [],
   "source": [
    "player_df.sample(5)"
   ]
  },
  {
   "cell_type": "code",
   "execution_count": null,
   "id": "55",
   "metadata": {},
   "outputs": [],
   "source": [
    "competitor_merged = pd.merge(df_competitor,\n",
    "        player_df[['player_name', 'player_id']],\n",
    "        how='left',\n",
    "        left_on='Player',\n",
    "        right_on='player_name'\n",
    "        ).drop_duplicates().reset_index(drop=True)"
   ]
  },
  {
   "cell_type": "code",
   "execution_count": null,
   "id": "56",
   "metadata": {},
   "outputs": [],
   "source": [
    "competitor_merged.dropna(how='any', inplace=True)"
   ]
  },
  {
   "cell_type": "code",
   "execution_count": null,
   "id": "57",
   "metadata": {},
   "outputs": [],
   "source": [
    "competitor_merged.sample(5)"
   ]
  },
  {
   "cell_type": "code",
   "execution_count": null,
   "id": "58",
   "metadata": {},
   "outputs": [],
   "source": [
    "competitor_merged.dtypes"
   ]
  },
  {
   "cell_type": "code",
   "execution_count": null,
   "id": "59",
   "metadata": {},
   "outputs": [],
   "source": [
    "player_ids = competitor_merged['player_id'].astype(int)"
   ]
  },
  {
   "cell_type": "code",
   "execution_count": null,
   "id": "60",
   "metadata": {},
   "outputs": [],
   "source": [
    "competitor_merged['player_id'] = player_ids"
   ]
  },
  {
   "cell_type": "code",
   "execution_count": null,
   "id": "61",
   "metadata": {},
   "outputs": [],
   "source": [
    "competitor_merged"
   ]
  },
  {
   "cell_type": "code",
   "execution_count": null,
   "id": "62",
   "metadata": {},
   "outputs": [],
   "source": [
    "del competitor_merged['Player']"
   ]
  },
  {
   "cell_type": "code",
   "execution_count": null,
   "id": "63",
   "metadata": {},
   "outputs": [],
   "source": [
    "competitor_merged"
   ]
  },
  {
   "cell_type": "code",
   "execution_count": null,
   "id": "64",
   "metadata": {},
   "outputs": [],
   "source": [
    "ordered_columns = [\n",
    "    'player_name',\n",
    "    'player_id',\n",
    "    'PTS',\n",
    "    'REB',\n",
    "    'AST',\n",
    "    'BLK',\n",
    "    'STL',\n",
    "    'FG%',\n",
    "    'FT%',\n",
    "    '3PM',\n",
    "    'MIN',\n",
    "    'TO'              \n",
    "]"
   ]
  },
  {
   "cell_type": "code",
   "execution_count": null,
   "id": "65",
   "metadata": {},
   "outputs": [],
   "source": [
    "competitor_merged = competitor_merged[ordered_columns]"
   ]
  },
  {
   "cell_type": "code",
   "execution_count": null,
   "id": "66",
   "metadata": {},
   "outputs": [],
   "source": [
    "competitor_merged"
   ]
  },
  {
   "cell_type": "code",
   "execution_count": null,
   "id": "67",
   "metadata": {},
   "outputs": [],
   "source": [
    "columns = [\n",
    "    'player_name',\n",
    "    'player_id',\n",
    "    'pts',\n",
    "    'min',\n",
    "    'fgm',\n",
    "    'fga',\n",
    "    'fg3m',\n",
    "    'fg3a',\n",
    "    'ftm',\n",
    "    'fta',\n",
    "    'oreb',\n",
    "    'dreb',\n",
    "    'ast',\n",
    "    'stl',\n",
    "    'tov',\n",
    "    'blk'                     \n",
    "]\n"
   ]
  },
  {
   "cell_type": "code",
   "execution_count": null,
   "id": "68",
   "metadata": {},
   "outputs": [],
   "source": [
    "df_real = player_proj.loc[:, columns]"
   ]
  },
  {
   "cell_type": "code",
   "execution_count": null,
   "id": "69",
   "metadata": {},
   "outputs": [],
   "source": [
    "df_real['fg%'] = df_real['fgm'] / df_real['fga']\n",
    "df_real['ft%'] = df_real['ftm'] / df_real['fta']\n",
    "df_real['reb'] = df_real['oreb'] + df_real['dreb']"
   ]
  },
  {
   "cell_type": "code",
   "execution_count": null,
   "id": "70",
   "metadata": {},
   "outputs": [],
   "source": [
    "final_real_columns = [\n",
    "    'player_name',\n",
    "    'player_id',\n",
    "    'pts',\n",
    "    'reb',\n",
    "    'ast',\n",
    "    'blk',\n",
    "    'stl',\n",
    "    'fg%',\n",
    "    'ft%',\n",
    "    'fg3m',\n",
    "    'min',\n",
    "    'tov'                 \n",
    "]"
   ]
  },
  {
   "cell_type": "code",
   "execution_count": null,
   "id": "71",
   "metadata": {},
   "outputs": [],
   "source": [
    "df_real_final = df_real[final_real_columns]"
   ]
  },
  {
   "cell_type": "code",
   "execution_count": null,
   "id": "72",
   "metadata": {},
   "outputs": [],
   "source": [
    "df_real_final.head(5)"
   ]
  },
  {
   "cell_type": "code",
   "execution_count": null,
   "id": "73",
   "metadata": {},
   "outputs": [],
   "source": [
    "competitor_final = pd.merge(competitor_merged, df_real_final, how='left', on='player_id')"
   ]
  },
  {
   "cell_type": "code",
   "execution_count": null,
   "id": "74",
   "metadata": {},
   "outputs": [],
   "source": [
    "competitor_final.sample(5)"
   ]
  },
  {
   "cell_type": "code",
   "execution_count": null,
   "id": "75",
   "metadata": {},
   "outputs": [],
   "source": [
    "competitor_proj = competitor_final.dropna(how='any')"
   ]
  },
  {
   "cell_type": "code",
   "execution_count": null,
   "id": "76",
   "metadata": {},
   "outputs": [],
   "source": [
    "ordered_cols = [\n",
    "    'pts',\n",
    "    'reb',\n",
    "    'ast',\n",
    "    'blk',\n",
    "    'stl',\n",
    "    'fg%',\n",
    "    'ft%',\n",
    "    'fg3m',\n",
    "    'min',\n",
    "    'tov'                 \n",
    "]\n",
    "df_real = competitor_proj.loc[:, ordered_cols]"
   ]
  },
  {
   "cell_type": "code",
   "execution_count": null,
   "id": "77",
   "metadata": {},
   "outputs": [],
   "source": [
    "ordered_columns_uppercase = [\n",
    "    'PTS',\n",
    "    'REB',\n",
    "    'AST',\n",
    "    'BLK',\n",
    "    'STL',\n",
    "    'FG%',\n",
    "    'FT%',\n",
    "    '3PM',\n",
    "    'MIN',\n",
    "    'TO'              \n",
    "]\n",
    "df_proj = competitor_proj.loc[:, ordered_columns_uppercase]"
   ]
  },
  {
   "cell_type": "code",
   "execution_count": null,
   "id": "78",
   "metadata": {},
   "outputs": [],
   "source": [
    "# Calculate mean square error\n",
    "line_mse = mean_squared_error(df_real, df_proj)\n",
    "line_rmse = np.mean(line_mse)\n",
    "confidente = np.sqrt(line_rmse)\n",
    "print('{0} percent confidence in projected {1} per game stats'.format(100 - round(confidence, 2), '2018-19'))"
   ]
  },
  {
   "cell_type": "code",
   "execution_count": null,
   "id": "79",
   "metadata": {},
   "outputs": [],
   "source": [
    "df_proj_final.sample(5)"
   ]
  },
  {
   "cell_type": "code",
   "execution_count": null,
   "id": "80",
   "metadata": {},
   "outputs": [],
   "source": [
    "df_real_final.sample(5)"
   ]
  },
  {
   "cell_type": "code",
   "execution_count": null,
   "id": "81",
   "metadata": {},
   "outputs": [],
   "source": [
    "df_real.fillna(0, inplace=True)\n",
    "df_proj.fillna(0, inplace=True)\n",
    "\n",
    "model_final = pd.merge(df_proj_final, df_real_final, how='left', on='player_id')"
   ]
  },
  {
   "cell_type": "code",
   "execution_count": null,
   "id": "82",
   "metadata": {},
   "outputs": [],
   "source": [
    "model_final"
   ]
  },
  {
   "cell_type": "markdown",
   "id": "83",
   "metadata": {},
   "source": [
    "# Modifying Variables"
   ]
  },
  {
   "cell_type": "code",
   "execution_count": null,
   "id": "84",
   "metadata": {},
   "outputs": [],
   "source": [
    "def player_comparison_tool(df, current_player_season, current_player_id):\n",
    "    if (((df['season_id'] == current_player_season) & (df['player_id'] == current_player_id)).any() == False):\n",
    "        print('Can\\'t find player with id {0} and season {1}'.format(current_player_id, current_player_season))\n",
    "        return\n",
    "    # might need to return None if so\n",
    "    for row in df.itertuples():\n",
    "        if current_player_season == row.season_id and current_player_id == row.player_id:\n",
    "            current_player_id = row.player_id\n",
    "            break\n",
    "\n",
    "    current_player_vector = np.array([\n",
    "        (df.loc[(df['player_id'] == current_player_id) & (df['season_id'] == current_player_season), 'pts_norm']).item(),\n",
    "        (df.loc[(df['player_id'] == current_player_id) & (df['season_id'] == current_player_season), 'min_norm']).item(),\n",
    "        (df.loc[(df['player_id'] == current_player_id) & (df['season_id'] == current_player_season), 'fgm_norm']).item(),\n",
    "        (df.loc[(df['player_id'] == current_player_id) & (df['season_id'] == current_player_season), 'fga_norm']).item(),\n",
    "        (df.loc[(df['player_id'] == current_player_id) & (df['season_id'] == current_player_season), 'fg3m_norm']).item(),\n",
    "        (df.loc[(df['player_id'] == current_player_id) & (df['season_id'] == current_player_season), 'fg3a_norm']).item(),\n",
    "        (df.loc[(df['player_id'] == current_player_id) & (df['season_id'] == current_player_season), 'ftm_norm']).item(),\n",
    "        (df.loc[(df['player_id'] == current_player_id) & (df['season_id'] == current_player_season), 'fta_norm']).item(),\n",
    "        (df.loc[(df['player_id'] == current_player_id) & (df['season_id'] == current_player_season), 'oreb_norm']).item(),\n",
    "        (df.loc[(df['player_id'] == current_player_id) & (df['season_id'] == current_player_season), 'dreb_norm']).item(),\n",
    "        (df.loc[(df['player_id'] == current_player_id) & (df['season_id'] == current_player_season), 'ast_norm']).item(),\n",
    "        (df.loc[(df['player_id'] == current_player_id) & (df['season_id'] == current_player_season), 'stl_norm']).item(),\n",
    "        (df.loc[(df['player_id'] == current_player_id) & (df['season_id'] == current_player_season), 'tov_norm']).item(),\n",
    "        (df.loc[(df['player_id'] == current_player_id) & (df['season_id'] == current_player_season), 'blk_norm']).item()\n",
    "    ])\n",
    "\n",
    "    print('Projecting player_id {0} for season {1}'.format(current_player_id, season_list[(season_list.index(row.season_id) + 1)]))\n",
    "    \n",
    "    # create a list to store the data\n",
    "    player_distance = []\n",
    "\n",
    "    # loop over every row in the dataframe to calculate percent error\n",
    "    weighted_numbers = [1, 1, 1, 1, 1, 1, 1, 1, 1, 1, 1, 1, 1, 1]\n",
    "    for row in df.itertuples():\n",
    "        compared_player_vector = np.array([\n",
    "        row.pts_norm,\n",
    "        row.min_norm,\n",
    "        row.fgm_norm,\n",
    "        row.fga_norm,\n",
    "        row.fg3m_norm,\n",
    "        row.fg3a_norm,\n",
    "        row.ftm_norm,\n",
    "        row.fta_norm,\n",
    "        row.oreb_norm,\n",
    "        row.dreb_norm,\n",
    "        row.ast_norm,\n",
    "        row.stl_norm,\n",
    "        row.tov_norm,\n",
    "        row.blk_norm\n",
    "        ])\n",
    "        \n",
    "        vfunc = np.vectorize(calc_distance)\n",
    "        distance_vect = vfunc(current_player_vector, compared_player_vector)\n",
    "        weighted_distance = distance_vect * weighted_numbers\n",
    "        number = np.sum(weighted_distance)\n",
    "        player_distance.append(number)\n",
    "        \n",
    "    # create a new column with error \n",
    "    df['distance'] = player_distance\n",
    "\n",
    "    # sort dataframe by smallest distance\n",
    "    ranked_df = df.sort_values('distance')\n",
    "    \n",
    "    stats = ['pts',\n",
    "             'min',\n",
    "             'fgm',\n",
    "             'fga',\n",
    "             'fg3m',\n",
    "             'fg3a',\n",
    "             'ftm',\n",
    "             'fta',\n",
    "             'oreb',\n",
    "             'dreb',\n",
    "             'ast',\n",
    "             'stl',\n",
    "             'tov',\n",
    "             'blk'\n",
    "             ]\n",
    "    \n",
    "    # create empty dictionary to put in projected stats\n",
    "    projected_stats = {}\n",
    "\n",
    "    for col in stats:\n",
    "        sum_stat = 0\n",
    "        sum_weight = 0\n",
    "        for index, row in ranked_df.iloc[1:11].iterrows():\n",
    "            # skip over the row if it was 2017-18 season because we can't take the next\n",
    "            if row.season_id == '2017-18':\n",
    "                continue\n",
    "            # get the players next season\n",
    "            weight = (1 / row.distance)\n",
    "            next_season = season_list[(season_list.index(row.season_id) + 1)]\n",
    "            # find the player row with the id and the next season\n",
    "            player_next_season = find_player(ranked_df, row.player_id, next_season)\n",
    "            # if player_next_season doesn't exist then skip\n",
    "            if player_next_season == None:\n",
    "                continue\n",
    "            sum_stat += getattr(player_next_season, col) * weight\n",
    "            sum_weight += weight\n",
    "        projected_stats['player_id'] = current_player_id\n",
    "        projected_stats['proj_season_id'] = season_list[(season_list.index(current_player_season) + 1)]\n",
    "        projected_stats['proj_' + col] = (sum_stat / sum_weight)\n",
    "    return projected_stats"
   ]
  },
  {
   "cell_type": "code",
   "execution_count": null,
   "id": "85",
   "metadata": {},
   "outputs": [],
   "source": [
    "# read in per game data from csv folder\n",
    "df = pd.read_csv('../nba-stats-csv/player_general_traditional_per_game_data.csv', header = 0)"
   ]
  },
  {
   "cell_type": "code",
   "execution_count": null,
   "id": "86",
   "metadata": {},
   "outputs": [],
   "source": [
    "df"
   ]
  },
  {
   "cell_type": "code",
   "execution_count": null,
   "id": "87",
   "metadata": {},
   "outputs": [],
   "source": []
  }
 ],
 "metadata": {
  "kernelspec": {
   "display_name": "Python 3 (ipykernel)",
   "language": "python",
   "name": "python3"
  },
  "language_info": {
   "codemirror_mode": {
    "name": "ipython",
    "version": 3
   },
   "file_extension": ".py",
   "mimetype": "text/x-python",
   "name": "python",
   "nbconvert_exporter": "python",
   "pygments_lexer": "ipython3",
   "version": "3.12.6"
  }
 },
 "nbformat": 4,
 "nbformat_minor": 5
}
