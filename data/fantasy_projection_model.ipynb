{
 "cells": [
  {
   "cell_type": "markdown",
   "id": "0",
   "metadata": {},
   "source": [
    "# Project Model Overview"
   ]
  },
  {
   "cell_type": "markdown",
   "id": "1",
   "metadata": {},
   "source": [
    "## Steps in Our Model\n",
    "\n",
    "---\n",
    "* Normalize data across seasons\n",
    "* Find 10 most similar player seasons historically\n",
    "* Rank and weight each of those 10 players season stats\n",
    "* Look at 10 players following seasons stats\n",
    "* Use weighted averages to predict current players next season\n",
    "* Rinse and repeat for every player in 2017-18\n",
    "---"
   ]
  },
  {
   "cell_type": "markdown",
   "id": "2",
   "metadata": {},
   "source": [
    "# Cleaning Our NBA Data"
   ]
  },
  {
   "cell_type": "code",
   "execution_count": null,
   "id": "3",
   "metadata": {},
   "outputs": [],
   "source": [
    "import pandas as pd\n",
    "import numpy as np\n",
    "import matplotlib.pyplot as plt # matplotlib along with seaborne plotting graphs in JN.\n",
    "%matplotlib inline"
   ]
  },
  {
   "cell_type": "code",
   "execution_count": null,
   "id": "4",
   "metadata": {},
   "outputs": [],
   "source": [
    "stats = [\n",
    "    'pts',\n",
    "    'min',\n",
    "    'fgm',\n",
    "    'fga',\n",
    "    'fg3m',\n",
    "    'fg3a',\n",
    "    'ftm',\n",
    "    'fta',\n",
    "    'oreb',\n",
    "    'dreb',\n",
    "    'ast',\n",
    "    'stl',\n",
    "    'tov',\n",
    "    'blk'\n",
    "]"
   ]
  },
  {
   "cell_type": "code",
   "execution_count": null,
   "id": "5",
   "metadata": {},
   "outputs": [],
   "source": [
    "# Using Pandas we read in per game data from csv folder.\n",
    "df = pd.read_csv('../nba-stats-csv/player_general_traditional_per_game_data.csv', header = 0)"
   ]
  },
  {
   "cell_type": "code",
   "execution_count": null,
   "id": "6",
   "metadata": {},
   "outputs": [],
   "source": [
    "df.head(10)"
   ]
  },
  {
   "cell_type": "code",
   "execution_count": null,
   "id": "7",
   "metadata": {},
   "outputs": [],
   "source": [
    "df.tail(10)"
   ]
  },
  {
   "cell_type": "code",
   "execution_count": null,
   "id": "8",
   "metadata": {},
   "outputs": [],
   "source": [
    "df.sample(10)"
   ]
  },
  {
   "cell_type": "code",
   "execution_count": null,
   "id": "9",
   "metadata": {},
   "outputs": [],
   "source": [
    "list(df)"
   ]
  },
  {
   "cell_type": "code",
   "execution_count": null,
   "id": "10",
   "metadata": {},
   "outputs": [],
   "source": [
    "df_cleaned = df.dropna(how='all') # delete all rows in which each col contains NaN\n",
    "# 2nd param: axis=1 -> delete all columns in which each row contains NaN"
   ]
  },
  {
   "cell_type": "code",
   "execution_count": null,
   "id": "11",
   "metadata": {},
   "outputs": [],
   "source": [
    "df_cleaned['gp'].describe()"
   ]
  },
  {
   "cell_type": "code",
   "execution_count": null,
   "id": "12",
   "metadata": {},
   "outputs": [],
   "source": [
    "min_gp = df_cleaned['gp'].mean() - (df_cleaned['gp'].std() * 3)"
   ]
  },
  {
   "cell_type": "code",
   "execution_count": null,
   "id": "13",
   "metadata": {},
   "outputs": [],
   "source": [
    "min_gp"
   ]
  },
  {
   "cell_type": "code",
   "execution_count": null,
   "id": "14",
   "metadata": {},
   "outputs": [],
   "source": [
    "bin_values = np.arange(start=0, stop=82, step=2)\n",
    "df_cleaned['gp'].hist(bins=bin_values, figsize=[14,6])\n",
    "# Histogram of games played in our data frame "
   ]
  },
  {
   "cell_type": "code",
   "execution_count": null,
   "id": "15",
   "metadata": {},
   "outputs": [],
   "source": [
    "min_gp = 10\n",
    "df_filter = df_cleaned[df_cleaned['gp'] > min_gp]"
   ]
  },
  {
   "cell_type": "code",
   "execution_count": null,
   "id": "16",
   "metadata": {},
   "outputs": [],
   "source": [
    "x = df_cleaned['player_id'].count()\n",
    "y = df_filter['player_id'].count()\n",
    "print(x-y)"
   ]
  },
  {
   "cell_type": "markdown",
   "id": "17",
   "metadata": {},
   "source": [
    "# Normalizing Data Across Seasons"
   ]
  },
  {
   "cell_type": "code",
   "execution_count": null,
   "id": "18",
   "metadata": {},
   "outputs": [],
   "source": [
    "season = df_filter['season_id'] == '2017-18'"
   ]
  },
  {
   "cell_type": "code",
   "execution_count": null,
   "id": "19",
   "metadata": {},
   "outputs": [],
   "source": [
    "df_2018 = df_filter[season]"
   ]
  },
  {
   "cell_type": "code",
   "execution_count": null,
   "id": "20",
   "metadata": {},
   "outputs": [],
   "source": [
    "df_2018.sample(10)"
   ]
  },
  {
   "cell_type": "code",
   "execution_count": null,
   "id": "21",
   "metadata": {},
   "outputs": [],
   "source": [
    "df_2018['pts_normalized'] = (df_2018['pts'] - df_2018['pts'].min()) / (df_2018['pts'].max() - df_2018['pts'].min())"
   ]
  },
  {
   "cell_type": "code",
   "execution_count": null,
   "id": "22",
   "metadata": {},
   "outputs": [],
   "source": [
    "df_2018.sort_values('pts_normalized', ascending=False).head(10)"
   ]
  },
  {
   "cell_type": "code",
   "execution_count": null,
   "id": "23",
   "metadata": {},
   "outputs": [],
   "source": [
    "# We can find each player by his id in: https://www.nba.com/stats/player/ + [player_id]"
   ]
  },
  {
   "cell_type": "code",
   "execution_count": null,
   "id": "24",
   "metadata": {},
   "outputs": [],
   "source": [
    "def normalize(col):\n",
    "    #df_2018['pts_normalized'] = (df_2018['pts'] - df_2018['pts'].min()) / (df_2018['pts'].max() - df_2018['pts'].min())\n",
    "    #df_2018['fgm_normalized'] = (df_2018['fgm'] - df_2018['fgm'].min()) / (df_2018['fgm'].max() - df_2018['fgm'].min())\n",
    "    #df_2018['ast_normalized'] = (df_2018['ast'] - df_2018['ast'].min()) / (df_2018['ast'].max() - df_2018['ast'].min())\n",
    "    return (col - col.min()) / (col.max() - col.min())"
   ]
  },
  {
   "cell_type": "code",
   "execution_count": null,
   "id": "25",
   "metadata": {},
   "outputs": [],
   "source": [
    "normalize(df_2018['pts'])"
   ]
  },
  {
   "cell_type": "code",
   "execution_count": null,
   "id": "26",
   "metadata": {},
   "outputs": [],
   "source": [
    "normalize(df_2018['fgm'])"
   ]
  },
  {
   "cell_type": "code",
   "execution_count": null,
   "id": "27",
   "metadata": {},
   "outputs": [],
   "source": [
    "normalize(df_2018['ast'])"
   ]
  },
  {
   "cell_type": "code",
   "execution_count": null,
   "id": "28",
   "metadata": {},
   "outputs": [],
   "source": [
    "cols_to_normalize = stats"
   ]
  },
  {
   "cell_type": "code",
   "execution_count": null,
   "id": "29",
   "metadata": {},
   "outputs": [],
   "source": [
    "def vorp(df): # Value Of Replacement Player\n",
    "    for col_name in cols_to_normalize:\n",
    "        df.loc[:, f\"{col_name}_normalize\"] = normalize(df[col_name])\n",
    "    return df"
   ]
  },
  {
   "cell_type": "code",
   "execution_count": null,
   "id": "30",
   "metadata": {},
   "outputs": [],
   "source": [
    "df_2018_normalized = vorp(df_2018)"
   ]
  },
  {
   "cell_type": "code",
   "execution_count": null,
   "id": "31",
   "metadata": {},
   "outputs": [],
   "source": [
    "df_2018_normalized.sample(10)"
   ]
  },
  {
   "cell_type": "code",
   "execution_count": null,
   "id": "32",
   "metadata": {},
   "outputs": [],
   "source": [
    "grouped = df_filter.groupby('season_id')\n",
    "grouped['pts'].mean()"
   ]
  },
  {
   "cell_type": "code",
   "execution_count": null,
   "id": "33",
   "metadata": {},
   "outputs": [],
   "source": [
    "df_new = df_filter.groupby(['season_id']).apply(vorp)"
   ]
  },
  {
   "cell_type": "code",
   "execution_count": null,
   "id": "34",
   "metadata": {},
   "outputs": [],
   "source": [
    "df_new.sample(10)"
   ]
  },
  {
   "cell_type": "markdown",
   "id": "35",
   "metadata": {},
   "source": [
    "# Player Distance Function"
   ]
  },
  {
   "cell_type": "code",
   "execution_count": null,
   "id": "36",
   "metadata": {},
   "outputs": [],
   "source": [
    "def calc_distance(u, v):\n",
    "    distance = np.sqrt(np.sum((u - v)**2))\n",
    "    return distance"
   ]
  },
  {
   "cell_type": "code",
   "execution_count": null,
   "id": "37",
   "metadata": {},
   "outputs": [],
   "source": [
    "df1 = pd.read_csv('../nba-stats-csv/player_id_player_name.csv')"
   ]
  },
  {
   "cell_type": "code",
   "execution_count": null,
   "id": "38",
   "metadata": {},
   "outputs": [],
   "source": [
    "df2 = pd.read_csv('../nba-stats-csv/player_general_traditional_per_game_data.csv', usecols=['player_id', 'season_id', 'pts'])"
   ]
  },
  {
   "cell_type": "code",
   "execution_count": null,
   "id": "39",
   "metadata": {},
   "outputs": [],
   "source": [
    "df1.sample(5)"
   ]
  },
  {
   "cell_type": "code",
   "execution_count": null,
   "id": "40",
   "metadata": {},
   "outputs": [],
   "source": [
    "df2.sample(5)"
   ]
  },
  {
   "cell_type": "code",
   "execution_count": null,
   "id": "41",
   "metadata": {},
   "outputs": [],
   "source": [
    "df3 = pd.merge(df1, df2, on='player_id', how='left')"
   ]
  },
  {
   "cell_type": "code",
   "execution_count": null,
   "id": "42",
   "metadata": {},
   "outputs": [],
   "source": [
    "df3.sample(5)"
   ]
  },
  {
   "cell_type": "code",
   "execution_count": null,
   "id": "43",
   "metadata": {},
   "outputs": [],
   "source": [
    "df_2019 = df3[df3['season_id'] == '2018-19']"
   ]
  },
  {
   "cell_type": "code",
   "execution_count": null,
   "id": "44",
   "metadata": {},
   "outputs": [],
   "source": [
    "df_2019.sample(10)"
   ]
  },
  {
   "cell_type": "code",
   "execution_count": null,
   "id": "45",
   "metadata": {},
   "outputs": [],
   "source": [
    "dame_df = df_2019[df_2019['player_name'] == 'Damian Lillard']\n",
    "steph_df = df_2019[df_2019['player_name'] == 'Stephen Curry']\n",
    "rudy_df = df_2019[df_2019['player_name'] == 'Rudy Gobert']"
   ]
  },
  {
   "cell_type": "code",
   "execution_count": null,
   "id": "46",
   "metadata": {},
   "outputs": [],
   "source": [
    "dame_ppg = dame_df.pts.tolist()[0]\n",
    "steph_ppg = steph_df.pts.tolist()[0]\n",
    "rudy_ppg = rudy_df.pts.tolist()[0]"
   ]
  },
  {
   "cell_type": "code",
   "execution_count": null,
   "id": "47",
   "metadata": {},
   "outputs": [],
   "source": [
    "calc_distance(dame_ppg, steph_ppg) # the order of params don't change the result"
   ]
  },
  {
   "cell_type": "code",
   "execution_count": null,
   "id": "48",
   "metadata": {},
   "outputs": [],
   "source": [
    "calc_distance(dame_ppg, rudy_ppg)"
   ]
  },
  {
   "cell_type": "code",
   "execution_count": null,
   "id": "49",
   "metadata": {},
   "outputs": [],
   "source": [
    "calc_distance(steph_ppg, rudy_ppg)"
   ]
  },
  {
   "cell_type": "markdown",
   "id": "50",
   "metadata": {},
   "source": [
    "# Find Player Function"
   ]
  },
  {
   "cell_type": "code",
   "execution_count": null,
   "id": "51",
   "metadata": {},
   "outputs": [],
   "source": [
    "nba_stats = {\n",
    "    'first_name': ['Jaylen','Jayson','Jrue','Derrick','Al'],\n",
    "    'last_name': ['Brown','Tatum','Holiday','White','Horford'],\n",
    "    'ppg': [28.2, 30.3, 14.1, 12.5, 7.8],\n",
    "    'apg': [5.2, 6.1, 4.4, 4.5, 1.5],\n",
    "    'rpg': [6.0, 8.4, 4.9, 3.7, 6.1]\n",
    "}\n",
    "celtics_df = pd.DataFrame(nba_stats, columns = ['first_name','last_name','ppg','apg','rpg'])"
   ]
  },
  {
   "cell_type": "code",
   "execution_count": null,
   "id": "52",
   "metadata": {},
   "outputs": [],
   "source": [
    "for row in celtics_df.itertuples():\n",
    "    print(row.first_name, row.last_name, row.ppg)"
   ]
  },
  {
   "cell_type": "code",
   "execution_count": null,
   "id": "53",
   "metadata": {},
   "outputs": [],
   "source": [
    "# read in per game data form csv folder\n",
    "dataframe = pd.read_csv('../nba-stats-csv/player_general_traditional_per_game_data.csv', header = 0)"
   ]
  },
  {
   "cell_type": "code",
   "execution_count": null,
   "id": "54",
   "metadata": {},
   "outputs": [],
   "source": [
    "df_example = dataframe.sample(10)"
   ]
  },
  {
   "cell_type": "code",
   "execution_count": null,
   "id": "55",
   "metadata": {},
   "outputs": [],
   "source": [
    "for row in df_example.itertuples():\n",
    "    print(row.season_id, row.player_id)"
   ]
  },
  {
   "cell_type": "code",
   "execution_count": null,
   "id": "56",
   "metadata": {},
   "outputs": [],
   "source": [
    "def find_player(player_id, player_season):\n",
    "    for row in df_example.itertuples():\n",
    "        if player_season == row.season_id and player_id == row.player_id:\n",
    "            return row"
   ]
  },
  {
   "cell_type": "code",
   "execution_count": null,
   "id": "57",
   "metadata": {},
   "outputs": [],
   "source": [
    "df_example"
   ]
  },
  {
   "cell_type": "code",
   "execution_count": null,
   "id": "58",
   "metadata": {},
   "outputs": [],
   "source": [
    "find_player(1504, '2001-02')"
   ]
  },
  {
   "cell_type": "code",
   "execution_count": null,
   "id": "59",
   "metadata": {},
   "outputs": [],
   "source": [
    "def find_player(df, player_id, player_season):\n",
    "    for row in df.itertuples():\n",
    "        if player_season == row.season_id and player_id == row.player_id:\n",
    "            return row"
   ]
  },
  {
   "cell_type": "code",
   "execution_count": null,
   "id": "60",
   "metadata": {},
   "outputs": [],
   "source": [
    "dataframe.dtypes # show the type of each field in the DF"
   ]
  },
  {
   "cell_type": "code",
   "execution_count": null,
   "id": "61",
   "metadata": {},
   "outputs": [],
   "source": [
    "player = 2544 # Lebron James\n",
    "season = '2012-13'"
   ]
  },
  {
   "cell_type": "code",
   "execution_count": null,
   "id": "62",
   "metadata": {},
   "outputs": [],
   "source": [
    "find_player(dataframe, player, season)"
   ]
  },
  {
   "cell_type": "markdown",
   "id": "63",
   "metadata": {},
   "source": [
    "# Calculating Player Similarity"
   ]
  },
  {
   "cell_type": "code",
   "execution_count": null,
   "id": "64",
   "metadata": {},
   "outputs": [],
   "source": [
    "current_player_season = '2016-17'\n",
    "current_player_id = 201950"
   ]
  },
  {
   "cell_type": "code",
   "execution_count": null,
   "id": "65",
   "metadata": {},
   "outputs": [],
   "source": [
    "# read in per game data from csv folder\n",
    "df = pd.read_csv('../nba-stats-csv/player_general_traditional_per_game_data.csv', header = 0)"
   ]
  },
  {
   "cell_type": "code",
   "execution_count": null,
   "id": "66",
   "metadata": {},
   "outputs": [],
   "source": [
    "df_cleaned = df.dropna(how='all')"
   ]
  },
  {
   "cell_type": "code",
   "execution_count": null,
   "id": "67",
   "metadata": {},
   "outputs": [],
   "source": [
    "min_gp = 10\n",
    "df_filter = df_cleaned[df_cleaned['gp'] > min_gp]"
   ]
  },
  {
   "cell_type": "code",
   "execution_count": null,
   "id": "68",
   "metadata": {},
   "outputs": [],
   "source": [
    "cols_to_normalize = [\n",
    "    'pts',\n",
    "    'min',\n",
    "    'fgm',\n",
    "    'fga',\n",
    "    'fg3m',\n",
    "    'fg3a',\n",
    "    'ftm',\n",
    "    'fta',\n",
    "    'oreb',\n",
    "    'dreb',\n",
    "    'ast',\n",
    "    'stl',\n",
    "    'tov',\n",
    "    'blk'\n",
    "]"
   ]
  },
  {
   "cell_type": "code",
   "execution_count": null,
   "id": "69",
   "metadata": {},
   "outputs": [],
   "source": [
    "def vorp(df):\n",
    "    for col_name in cols_to_normalize:\n",
    "        df['{}_norm'.format(col_name)] = normalize(df[col_name])\n",
    "    return df"
   ]
  },
  {
   "cell_type": "code",
   "execution_count": null,
   "id": "70",
   "metadata": {},
   "outputs": [],
   "source": [
    "df_norm = df_filter.groupby(['season_id']).apply(vorp)"
   ]
  },
  {
   "cell_type": "code",
   "execution_count": null,
   "id": "71",
   "metadata": {},
   "outputs": [],
   "source": [
    "jrue_pts_norm = (df_norm.loc[(df_norm['player_id'] == current_player_id) & (df_norm['season_id'] == current_player_season), 'pts_norm']).item()"
   ]
  },
  {
   "cell_type": "code",
   "execution_count": null,
   "id": "72",
   "metadata": {},
   "outputs": [],
   "source": [
    "jrue_pts_norm"
   ]
  },
  {
   "cell_type": "code",
   "execution_count": null,
   "id": "73",
   "metadata": {},
   "outputs": [],
   "source": [
    "# We normalize only 3 fields but we can normalize all fields we need inside the array\n",
    "jrue_player_stats = [\n",
    "    (df_norm.loc[(df_norm['player_id'] == current_player_id) & (df_norm['season_id'] == current_player_season), 'pts_norm']).item(),\n",
    "    (df_norm.loc[(df_norm['player_id'] == current_player_id) & (df_norm['season_id'] == current_player_season), 'min_norm']).item(),\n",
    "    (df_norm.loc[(df_norm['player_id'] == current_player_id) & (df_norm['season_id'] == current_player_season), 'ast_norm']).item()\n",
    "]"
   ]
  },
  {
   "cell_type": "code",
   "execution_count": null,
   "id": "74",
   "metadata": {},
   "outputs": [],
   "source": [
    "print(jrue_player_stats)"
   ]
  },
  {
   "cell_type": "code",
   "execution_count": null,
   "id": "75",
   "metadata": {},
   "outputs": [],
   "source": [
    "current_player_vector = np.array(jrue_player_stats)"
   ]
  },
  {
   "cell_type": "code",
   "execution_count": null,
   "id": "76",
   "metadata": {},
   "outputs": [],
   "source": [
    "current_player_vector"
   ]
  },
  {
   "cell_type": "code",
   "execution_count": null,
   "id": "77",
   "metadata": {},
   "outputs": [],
   "source": [
    "compared_player_season = '2013-14'\n",
    "compared_player_id = 203077"
   ]
  },
  {
   "cell_type": "code",
   "execution_count": null,
   "id": "78",
   "metadata": {},
   "outputs": [],
   "source": [
    "mkg_player_stats = [\n",
    "    (df_norm.loc[(df_norm['player_id'] == compared_player_id) & (df_norm['season_id'] == compared_player_season), 'pts_norm']).item(),\n",
    "    (df_norm.loc[(df_norm['player_id'] == compared_player_id) & (df_norm['season_id'] == compared_player_season), 'min_norm']).item(),\n",
    "    (df_norm.loc[(df_norm['player_id'] == compared_player_id) & (df_norm['season_id'] == compared_player_season), 'ast_norm']).item()\n",
    "]"
   ]
  },
  {
   "cell_type": "code",
   "execution_count": null,
   "id": "79",
   "metadata": {},
   "outputs": [],
   "source": [
    "compared_player_vector = np.array(mkg_player_stats)"
   ]
  },
  {
   "cell_type": "code",
   "execution_count": null,
   "id": "80",
   "metadata": {},
   "outputs": [],
   "source": [
    "compared_player_vector"
   ]
  },
  {
   "cell_type": "code",
   "execution_count": null,
   "id": "81",
   "metadata": {},
   "outputs": [],
   "source": [
    "vfunc = np.vectorize(calc_distance)"
   ]
  },
  {
   "cell_type": "code",
   "execution_count": null,
   "id": "82",
   "metadata": {},
   "outputs": [],
   "source": [
    "distance_vect = vfunc(current_player_vector, compared_player_vector)"
   ]
  },
  {
   "cell_type": "code",
   "execution_count": null,
   "id": "83",
   "metadata": {},
   "outputs": [],
   "source": [
    "distance_vect # We obtained the distance between each field for our 2 example players.\n",
    "# [a1 b1] - [a2 b2] = [(a1-a2), (b1-b2), (c1-c2), (d1-d2)]\n",
    "# [c1 d1]   [c2 d2]"
   ]
  },
  {
   "cell_type": "code",
   "execution_count": null,
   "id": "84",
   "metadata": {},
   "outputs": [],
   "source": [
    "number = np.sum(np.abs(distance_vect) / len(distance_vect))"
   ]
  },
  {
   "cell_type": "code",
   "execution_count": null,
   "id": "85",
   "metadata": {},
   "outputs": [],
   "source": [
    "number # This number measures the similarity in these 3 fields [pts,min,ast] between jrue and mkg."
   ]
  },
  {
   "cell_type": "markdown",
   "id": "86",
   "metadata": {},
   "source": [
    "# Comparing Multiple Players in a For Loop"
   ]
  },
  {
   "cell_type": "code",
   "execution_count": null,
   "id": "87",
   "metadata": {},
   "outputs": [],
   "source": [
    "player_distance = []"
   ]
  },
  {
   "cell_type": "code",
   "execution_count": null,
   "id": "88",
   "metadata": {},
   "outputs": [],
   "source": [
    "df_sample = df_norm.sample(10)"
   ]
  },
  {
   "cell_type": "code",
   "execution_count": null,
   "id": "89",
   "metadata": {},
   "outputs": [],
   "source": [
    "df_sample.head(10)"
   ]
  },
  {
   "cell_type": "code",
   "execution_count": null,
   "id": "90",
   "metadata": {},
   "outputs": [],
   "source": [
    "# We will nest all rows from our previous example\n",
    "for row in df_sample.itertuples():\n",
    "    compared_player_vector = np.array([\n",
    "        row.pts_norm,\n",
    "        row.min_norm,\n",
    "        row.ast_norm\n",
    "    ])\n",
    "    \n",
    "    vfunc = np.vectorize(calc_distance)\n",
    "    distance_vect = vfunc(current_player_vector, compared_player_vector)\n",
    "    number = np.sum(np.abs(distance_vect)) / len(distance_vect)\n",
    "    player_distance.append(number)\n",
    "    player = row.player_id\n",
    "    print('Done with ' + str(player) + '. Percent error was ' + str(round(1 - number, 1)))"
   ]
  },
  {
   "cell_type": "code",
   "execution_count": null,
   "id": "91",
   "metadata": {},
   "outputs": [],
   "source": [
    "player_distance"
   ]
  },
  {
   "cell_type": "code",
   "execution_count": null,
   "id": "92",
   "metadata": {},
   "outputs": [],
   "source": [
    "df_sample['distance'] = player_distance # the shorter the distance the better"
   ]
  },
  {
   "cell_type": "code",
   "execution_count": null,
   "id": "93",
   "metadata": {},
   "outputs": [],
   "source": [
    "ranked_df = df_sample.sort_values('distance')"
   ]
  },
  {
   "cell_type": "code",
   "execution_count": null,
   "id": "94",
   "metadata": {},
   "outputs": [],
   "source": [
    "ranked_df.head(10)"
   ]
  },
  {
   "cell_type": "code",
   "execution_count": null,
   "id": "95",
   "metadata": {},
   "outputs": [],
   "source": [
    "import pandas as pd"
   ]
  },
  {
   "cell_type": "code",
   "execution_count": null,
   "id": "96",
   "metadata": {},
   "outputs": [],
   "source": [
    "df1 = pd.read_csv('../nba-stats-csv/player_info.csv')"
   ]
  },
  {
   "cell_type": "code",
   "execution_count": null,
   "id": "97",
   "metadata": {},
   "outputs": [],
   "source": [
    "df_final = pd.merge(ranked_df, df1, on=['player_id'], how='left').drop_duplicates()"
   ]
  },
  {
   "cell_type": "code",
   "execution_count": null,
   "id": "98",
   "metadata": {},
   "outputs": [],
   "source": [
    "df_final = df_final[['player_name', 'player_id', 'distance']]"
   ]
  },
  {
   "cell_type": "code",
   "execution_count": null,
   "id": "99",
   "metadata": {},
   "outputs": [],
   "source": [
    "df_final"
   ]
  },
  {
   "cell_type": "markdown",
   "id": "100",
   "metadata": {},
   "source": [
    "# Weighting Stat Projections"
   ]
  },
  {
   "cell_type": "code",
   "execution_count": null,
   "id": "101",
   "metadata": {},
   "outputs": [],
   "source": [
    "season_list = [\n",
    "    '1996-97',\n",
    "    '1997-98',\n",
    "    '1998-99',\n",
    "    '1999-00',\n",
    "    '2000-01',\n",
    "    '2001-02',\n",
    "    '2002-03',\n",
    "    '2003-04',\n",
    "    '2004-05',\n",
    "    '2005-06',\n",
    "    '2006-07',\n",
    "    '2007-08',\n",
    "    '2008-09',\n",
    "    '2009-10',\n",
    "    '2010-11',\n",
    "    '2011-12',\n",
    "    '2012-13',\n",
    "    '2013-14',\n",
    "    '2014-15',\n",
    "    '2015-16',\n",
    "    '2016-17',\n",
    "    '2017-18',\n",
    "    '2018-19'\n",
    "]"
   ]
  },
  {
   "cell_type": "code",
   "execution_count": null,
   "id": "102",
   "metadata": {},
   "outputs": [],
   "source": [
    "season_id = season_list[18]\n",
    "print(season_id)"
   ]
  },
  {
   "cell_type": "code",
   "execution_count": null,
   "id": "103",
   "metadata": {},
   "outputs": [],
   "source": [
    "season_id = '2014-15'\n",
    "value = season_list.index(season_id)\n",
    "print(value)"
   ]
  },
  {
   "cell_type": "code",
   "execution_count": null,
   "id": "104",
   "metadata": {},
   "outputs": [],
   "source": [
    "current_season = season_list[(season_list.index(season_id))]\n",
    "print(current_season)"
   ]
  },
  {
   "cell_type": "code",
   "execution_count": null,
   "id": "105",
   "metadata": {},
   "outputs": [],
   "source": [
    "next_season = season_list[(season_list.index(season_id) + 1)]\n",
    "print(next_season)"
   ]
  },
  {
   "cell_type": "code",
   "execution_count": null,
   "id": "106",
   "metadata": {},
   "outputs": [],
   "source": [
    "ranked_df.head(10)"
   ]
  },
  {
   "cell_type": "code",
   "execution_count": null,
   "id": "107",
   "metadata": {},
   "outputs": [],
   "source": [
    "print(current_player_id)\n",
    "print(current_player_season)"
   ]
  },
  {
   "cell_type": "code",
   "execution_count": null,
   "id": "108",
   "metadata": {},
   "outputs": [],
   "source": [
    "test_df = ranked_df.iloc[0]"
   ]
  },
  {
   "cell_type": "code",
   "execution_count": null,
   "id": "109",
   "metadata": {},
   "outputs": [],
   "source": [
    "weight = (1 / test_df.distance)\n",
    "print(weight)"
   ]
  },
  {
   "cell_type": "code",
   "execution_count": null,
   "id": "110",
   "metadata": {},
   "outputs": [],
   "source": [
    "stats = [\n",
    "    'pts',\n",
    "    'min',\n",
    "    'fgm',\n",
    "    'fga',\n",
    "    'fg3m',\n",
    "    'fg3a',\n",
    "    'ftm',\n",
    "    'fta',\n",
    "    'oreb',\n",
    "    'dreb',\n",
    "    'ast',\n",
    "    'stl',\n",
    "    'tov',\n",
    "    'blk'\n",
    "]"
   ]
  },
  {
   "cell_type": "code",
   "execution_count": null,
   "id": "111",
   "metadata": {},
   "outputs": [],
   "source": [
    "projected_stats = {}"
   ]
  },
  {
   "cell_type": "code",
   "execution_count": null,
   "id": "112",
   "metadata": {},
   "outputs": [],
   "source": [
    "for col in stats:\n",
    "    sum_stat = test_df[col] * weight\n",
    "    projected_stats['proj_' + col] = (sum_stat / weight)"
   ]
  },
  {
   "cell_type": "code",
   "execution_count": null,
   "id": "113",
   "metadata": {},
   "outputs": [],
   "source": [
    "projected_stats"
   ]
  },
  {
   "cell_type": "code",
   "execution_count": null,
   "id": "114",
   "metadata": {},
   "outputs": [],
   "source": [
    "projected_stats = {}"
   ]
  },
  {
   "cell_type": "code",
   "execution_count": null,
   "id": "115",
   "metadata": {},
   "outputs": [],
   "source": [
    "sum_stat = 0\n",
    "sum_weight = 0"
   ]
  },
  {
   "cell_type": "code",
   "execution_count": null,
   "id": "116",
   "metadata": {},
   "outputs": [],
   "source": [
    "for row in ranked_df.itertuples():\n",
    "    weight = (1 / row.distance)\n",
    "    sum_stat += row.pts + weight\n",
    "    sum_weight += weight"
   ]
  },
  {
   "cell_type": "code",
   "execution_count": null,
   "id": "117",
   "metadata": {},
   "outputs": [],
   "source": [
    "proj_points = (sum_stat / sum_weight)"
   ]
  },
  {
   "cell_type": "code",
   "execution_count": null,
   "id": "118",
   "metadata": {},
   "outputs": [],
   "source": [
    "proj_points"
   ]
  },
  {
   "cell_type": "code",
   "execution_count": null,
   "id": "119",
   "metadata": {},
   "outputs": [],
   "source": [
    "for col in stats:\n",
    "    sum_stat = 0\n",
    "    sum_weight = 0\n",
    "    for index, row in ranked_df.iterrows():\n",
    "        weight = (1 / row.distance)\n",
    "        sum_stat += row[col] + weight\n",
    "        sum_weight += weight\n",
    "    projected_stats['player_id'] = current_player_id\n",
    "    projected_stats['proj_season_id'] = season_list[(season_list.index(current_player_season) + 1)]\n",
    "    projected_stats['proj_' + col] = (sum_stat / sum_weight)"
   ]
  },
  {
   "cell_type": "code",
   "execution_count": null,
   "id": "120",
   "metadata": {},
   "outputs": [],
   "source": [
    "projected_stats # Stats are in a dictionary but we can convert it into a DF"
   ]
  },
  {
   "cell_type": "markdown",
   "id": "121",
   "metadata": {},
   "source": [
    "# Weighted Average Using Multiple Players Next Season"
   ]
  },
  {
   "cell_type": "code",
   "execution_count": null,
   "id": "122",
   "metadata": {},
   "outputs": [],
   "source": [
    "for col in stats:\n",
    "    sum_stat = 0\n",
    "    sum_weight = 0\n",
    "    for index, row in ranked_df.iloc[1:11].iterrows():\n",
    "        if row.season_id == '2017-18':\n",
    "            continue\n",
    "        weight = (1 / row.distance)\n",
    "        next_season = season_list[(season_list.index(row.season_id))] # + 1\n",
    "        player_next_season = find_player(ranked_df, row.player_id, next_season)\n",
    "        if player_next_season == None:\n",
    "            continue\n",
    "        sum_stat += getattr(player_next_season, col) * weight\n",
    "        sum_weight += weight\n",
    "    projected_stats['player_id'] = current_player_id\n",
    "    projected_stats['proj_season_id'] = season_list[(season_list.index(current_player_season))]"
   ]
  },
  {
   "cell_type": "markdown",
   "id": "123",
   "metadata": {},
   "source": [
    "# Player Comparison Tool Function"
   ]
  },
  {
   "cell_type": "code",
   "execution_count": null,
   "id": "124",
   "metadata": {},
   "outputs": [],
   "source": [
    "# Let's create the main event"
   ]
  },
  {
   "cell_type": "code",
   "execution_count": null,
   "id": "125",
   "metadata": {},
   "outputs": [],
   "source": [
    "def player_comparison_tool(df, current_player_season, current_player_id):\n",
    "    if (((df['season_id'] == current_player_season) & (df['player_id'] == current_player_id)).any() == False):\n",
    "        print('Can\\'t find player with id {} and season {}'.format(current_player_id, current_player_season))\n",
    "        return\n",
    "    for row in df.itertuples():\n",
    "        if current_player_season == row.season_id and current_player_id == row.player_id:\n",
    "            current_player_id = row.player_id\n",
    "            break\n",
    "\n",
    "    current_player_vector = np.array([\n",
    "    (df_norm.loc[(df_norm['player_id'] == compared_player_id) & (df_norm['season_id'] == compared_player_season), 'pts_norm']).item(),\n",
    "    (df_norm.loc[(df_norm['player_id'] == compared_player_id) & (df_norm['season_id'] == compared_player_season), 'min_norm']).item(),\n",
    "    (df_norm.loc[(df_norm['player_id'] == compared_player_id) & (df_norm['season_id'] == compared_player_season), 'fgm_norm']).item(),\n",
    "    (df_norm.loc[(df_norm['player_id'] == compared_player_id) & (df_norm['season_id'] == compared_player_season), 'fga_norm']).item(),\n",
    "    (df_norm.loc[(df_norm['player_id'] == compared_player_id) & (df_norm['season_id'] == compared_player_season), 'fg3m_norm']).item(),\n",
    "    (df_norm.loc[(df_norm['player_id'] == compared_player_id) & (df_norm['season_id'] == compared_player_season), 'fg3a_norm']).item(),\n",
    "    (df_norm.loc[(df_norm['player_id'] == compared_player_id) & (df_norm['season_id'] == compared_player_season), 'ftm_norm']).item(),\n",
    "    (df_norm.loc[(df_norm['player_id'] == compared_player_id) & (df_norm['season_id'] == compared_player_season), 'fta_norm']).item(),\n",
    "    (df_norm.loc[(df_norm['player_id'] == compared_player_id) & (df_norm['season_id'] == compared_player_season), 'oreb_norm']).item(),\n",
    "    (df_norm.loc[(df_norm['player_id'] == compared_player_id) & (df_norm['season_id'] == compared_player_season), 'dreb_norm']).item(),\n",
    "    (df_norm.loc[(df_norm['player_id'] == compared_player_id) & (df_norm['season_id'] == compared_player_season), 'ast_norm']).item(),\n",
    "    (df_norm.loc[(df_norm['player_id'] == compared_player_id) & (df_norm['season_id'] == compared_player_season), 'stl_norm']).item(),\n",
    "    (df_norm.loc[(df_norm['player_id'] == compared_player_id) & (df_norm['season_id'] == compared_player_season), 'tov_norm']).item(),\n",
    "    (df_norm.loc[(df_norm['player_id'] == compared_player_id) & (df_norm['season_id'] == compared_player_season), 'blk_norm']).item()\n",
    "    ])\n",
    "    \n",
    "    print('Projecting player_id {0} for season {1}').format(current_player_id, season_list[(season_list.index(row.season_id) +1)])\n",
    "\n",
    "    player_distance = []\n",
    "\n",
    "    #weighted_numbers = [1,1,1,1,1,1,1,1,1,1,1,1,1,1,1]\n",
    "\n",
    "    for row in df.itertuples():\n",
    "        compared_player_vector = np.array([\n",
    "            row.pts_norm,\n",
    "            row.min_norm,\n",
    "            row.fgm_norm,\n",
    "            row.fga_norm,\n",
    "            row.fg3m_norm,\n",
    "            row.fg3a_norm,\n",
    "            row.ftm_norm,\n",
    "            row.fta_norm,\n",
    "            row.oreb_norm,\n",
    "            row.dreb_norm,\n",
    "            row.ast_norm,\n",
    "            row.stl_norm,\n",
    "            row.tov_norm,\n",
    "            row.blk_norm\n",
    "        ])\n",
    "\n",
    "        vfunc = np.vectorize(calc_distance)\n",
    "        distance_vect = vfunc(current_player_vector, compared_player_vector)\n",
    "\n",
    "        #weighted_distance = distance_vect * weighted_numbers\n",
    "        #number = np.sum(np.abs(weighted_distance)) / len(distance_vect)\n",
    "        \n",
    "        number = np.sum(np.abs(distance_vect)) / len(distance_vect)\n",
    "        player_distance.append(number)\n",
    "\n",
    "    df['distance'] = player_distance\n",
    "\n",
    "    ranked_df = df.sort_values('distance')\n",
    "\n",
    "    stats = [\n",
    "    'pts',\n",
    "    'min',\n",
    "    'fgm',\n",
    "    'fga',\n",
    "    'fg3m',\n",
    "    'fg3a',\n",
    "    'ftm',\n",
    "    'fta',\n",
    "    'oreb',\n",
    "    'dreb',\n",
    "    'ast',\n",
    "    'stl',\n",
    "    'tov',\n",
    "    'blk'\n",
    "    ]\n",
    "\n",
    "    projected_stats = {}\n",
    "\n",
    "    for col in stats:\n",
    "        sum_stat = 0\n",
    "        sum_weight = 0\n",
    "        for index, row in ranked_df.iloc[1:11].iterrows():\n",
    "            # skip over the row if it was 2017-18 season because we cant take the next\n",
    "            if row.season_id == '2017-18':\n",
    "                continue\n",
    "            # get the plaayers next season\n",
    "            weight = (1 / row.distance)\n",
    "            next_season = season_list[(season_list.index(current_player_season) + 1)]\n",
    "            # find the player row with the id and the next season\n",
    "            player_next_season = find_player(ranked_df, row.player_id, next_season)\n",
    "            # if player_next_season doesn't exist then skip\n",
    "            if player_next_season == None:\n",
    "                continue\n",
    "            sum_stat = getattr(player_next_season, col) * weight\n",
    "            sum_weight += weight\n",
    "        projected_stats['player_id'] = current_player_id\n",
    "        projected_stats['proj_season_id'] = season_list[(season_list.index(current_player_season) + 1)]\n",
    "        projected_stats['proj_' + col] = (sum_stat / sum_weight)\n",
    "    \n",
    "    return project_stats"
   ]
  },
  {
   "cell_type": "markdown",
   "id": "126",
   "metadata": {},
   "source": [
    "# Projecting 2018-19 Season Stats"
   ]
  },
  {
   "cell_type": "code",
   "execution_count": null,
   "id": "127",
   "metadata": {},
   "outputs": [],
   "source": [
    "ten_players = [\n",
    "    201935,\n",
    "    203081,\n",
    "    201942,\n",
    "    201937,\n",
    "    202339,\n",
    "    203496,\n",
    "    203497,\n",
    "    201567,\n",
    "    202331,\n",
    "    202691\n",
    "]"
   ]
  },
  {
   "cell_type": "code",
   "execution_count": null,
   "id": "128",
   "metadata": {},
   "outputs": [],
   "source": [
    "current_player_season = '2017-18'"
   ]
  },
  {
   "cell_type": "code",
   "execution_count": null,
   "id": "129",
   "metadata": {},
   "outputs": [],
   "source": [
    "final_projections = []"
   ]
  },
  {
   "cell_type": "code",
   "execution_count": null,
   "id": "130",
   "metadata": {},
   "outputs": [],
   "source": [
    "# read in per game data from csv folder\n",
    "df = pd.read_csv('../nba-stats-csv/player_general_traditional_per_game_data.csv', header=0)"
   ]
  },
  {
   "cell_type": "code",
   "execution_count": null,
   "id": "131",
   "metadata": {},
   "outputs": [],
   "source": [
    "df_new = df[df.season_id != '2018-19']"
   ]
  },
  {
   "cell_type": "code",
   "execution_count": null,
   "id": "132",
   "metadata": {},
   "outputs": [],
   "source": [
    "df_new.sample(10)"
   ]
  },
  {
   "cell_type": "code",
   "execution_count": null,
   "id": "133",
   "metadata": {},
   "outputs": [],
   "source": [
    "df_cleaned = df_new.dropna(how='any')"
   ]
  },
  {
   "cell_type": "code",
   "execution_count": null,
   "id": "134",
   "metadata": {},
   "outputs": [],
   "source": [
    "min_gp = 10\n",
    "df_filter = df_cleaned[df_cleaned['gp'] > min_gp]"
   ]
  },
  {
   "cell_type": "code",
   "execution_count": null,
   "id": "135",
   "metadata": {},
   "outputs": [],
   "source": [
    "df_final = df_filter.groupby(['season_id']).apply(vorp)"
   ]
  },
  {
   "cell_type": "code",
   "execution_count": null,
   "id": "136",
   "metadata": {},
   "outputs": [],
   "source": [
    "df_final.tail(5)"
   ]
  },
  {
   "cell_type": "code",
   "execution_count": null,
   "id": "137",
   "metadata": {},
   "outputs": [],
   "source": [
    "season_list = [\n",
    "    '1996-97',\n",
    "    '1997-98',\n",
    "    '1998-99',\n",
    "    '1999-00',\n",
    "    '2000-01',\n",
    "    '2001-02',\n",
    "    '2002-03',\n",
    "    '2003-04',\n",
    "    '2004-05',\n",
    "    '2005-06',\n",
    "    '2006-07',\n",
    "    '2007-08',\n",
    "    '2008-09',\n",
    "    '2009-10',\n",
    "    '2010-11',\n",
    "    '2011-12',\n",
    "    '2012-13',\n",
    "    '2013-14',\n",
    "    '2014-15',\n",
    "    '2015-16',\n",
    "    '2016-17',\n",
    "    '2017-18',\n",
    "    '2018-19'\n",
    "]"
   ]
  },
  {
   "cell_type": "code",
   "execution_count": null,
   "id": "138",
   "metadata": {},
   "outputs": [],
   "source": [
    "#function to calculate distance between two points\n",
    "def calc_distance(u,v):\n",
    "    dist = np.sqrt(np.sum((u-v)**2))\n",
    "    return dist\n",
    "\n",
    "#create a function to find the player an the next season\n",
    "def find_player(df, player_id, season):\n",
    "    # replaces for loop\n",
    "    for row in df.itertuples():\n",
    "        if season == row.season_id and player_id == row.player_id:\n",
    "            return row"
   ]
  },
  {
   "cell_type": "code",
   "execution_count": null,
   "id": "139",
   "metadata": {},
   "outputs": [],
   "source": [
    "for baller_id in ten_players:\n",
    "    current_player_id = baller_id\n",
    "    current_player_season = '2017-18'\n",
    "    projections = player_comparison_tool(df_final, current_player_season, current_player_id)\n",
    "    if (projections == None):\n",
    "        continue\n",
    "        \n",
    "    final_projections.append(projections)"
   ]
  },
  {
   "cell_type": "code",
   "execution_count": null,
   "id": "140",
   "metadata": {},
   "outputs": [],
   "source": [
    "# **This will be the list where we storage our projections**\n",
    "final_projections = []"
   ]
  },
  {
   "cell_type": "code",
   "execution_count": null,
   "id": "141",
   "metadata": {},
   "outputs": [],
   "source": [
    "test_projections = pd.DataFrame(final_projections)"
   ]
  },
  {
   "cell_type": "code",
   "execution_count": null,
   "id": "142",
   "metadata": {},
   "outputs": [],
   "source": [
    "test_projections.sample(5)"
   ]
  },
  {
   "cell_type": "code",
   "execution_count": null,
   "id": "143",
   "metadata": {},
   "outputs": [],
   "source": [
    "df_names = pd.read_csv('../nba-stats-csv/player_id_player_name.csv')"
   ]
  },
  {
   "cell_type": "code",
   "execution_count": null,
   "id": "144",
   "metadata": {},
   "outputs": [],
   "source": [
    "final_stat_df = pd.merge(test_projections, df_names, left_on=['player_id'], right_on=['player_id'], how='inner')"
   ]
  },
  {
   "cell_type": "code",
   "execution_count": null,
   "id": "145",
   "metadata": {},
   "outputs": [],
   "source": [
    "round(final_stat_df, 1)"
   ]
  },
  {
   "cell_type": "code",
   "execution_count": null,
   "id": "146",
   "metadata": {},
   "outputs": [],
   "source": [
    "player_df = pd.read_csv('../nba-stats-csv/player_info.csv')"
   ]
  },
  {
   "cell_type": "code",
   "execution_count": null,
   "id": "147",
   "metadata": {},
   "outputs": [],
   "source": [
    "player_filter = player_df[player_df['season_id'] == '2017-18']"
   ]
  },
  {
   "cell_type": "code",
   "execution_count": null,
   "id": "148",
   "metadata": {},
   "outputs": [],
   "source": [
    "player_ids_2018 = player_filter['player_id'].tolist()"
   ]
  },
  {
   "cell_type": "code",
   "execution_count": null,
   "id": "149",
   "metadata": {},
   "outputs": [],
   "source": [
    "player_ids_2018"
   ]
  },
  {
   "cell_type": "code",
   "execution_count": null,
   "id": "150",
   "metadata": {},
   "outputs": [],
   "source": [
    "for baller_id in player_ids_2018:\n",
    "    current_player_id = baller_id\n",
    "    current_player_season = '2017-18'\n",
    "    projections = player_comparison_tool(df_final, current_player_season, current_player_id)\n",
    "    if (projections == None):\n",
    "       continue\n",
    "    final_projections.append(projections)"
   ]
  },
  {
   "cell_type": "code",
   "execution_count": null,
   "id": "151",
   "metadata": {},
   "outputs": [],
   "source": [
    "player_info_columns = [\n",
    "    'player_name',\n",
    "    'player_id',\n",
    "    'proj_season_id'\n",
    "]"
   ]
  },
  {
   "cell_type": "code",
   "execution_count": null,
   "id": "152",
   "metadata": {},
   "outputs": [],
   "source": [
    "player_info = final_projections[player_info_columns]\n"
   ]
  },
  {
   "cell_type": "code",
   "execution_count": null,
   "id": "153",
   "metadata": {},
   "outputs": [],
   "source": [
    "# Finally we're gonna save our final projections to CSV\n",
    "final_projections.to_csv('../nba-stats-csv/player_proj_df.csv', index=False)\n",
    "player_info.to_csv('../nba-stats-csv/player_info_df.csv', index=False)"
   ]
  },
  {
   "cell_type": "code",
   "execution_count": null,
   "id": "154",
   "metadata": {},
   "outputs": [],
   "source": []
  }
 ],
 "metadata": {
  "kernelspec": {
   "display_name": "Python 3 (ipykernel)",
   "language": "python",
   "name": "python3"
  },
  "language_info": {
   "codemirror_mode": {
    "name": "ipython",
    "version": 3
   },
   "file_extension": ".py",
   "mimetype": "text/x-python",
   "name": "python",
   "nbconvert_exporter": "python",
   "pygments_lexer": "ipython3",
   "version": "3.12.6"
  }
 },
 "nbformat": 4,
 "nbformat_minor": 5
}
