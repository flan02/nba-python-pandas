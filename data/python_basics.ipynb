{
 "cells": [
  {
   "cell_type": "code",
   "execution_count": 1,
   "id": "b7e9d619-c698-45fd-9331-5f96cee517f8",
   "metadata": {},
   "outputs": [
    {
     "name": "stdout",
     "output_type": "stream",
     "text": [
      "Hello Python\n"
     ]
    }
   ],
   "source": [
    "import intro_message"
   ]
  },
  {
   "cell_type": "code",
   "execution_count": 2,
   "id": "d2d127c7-fc8f-44ee-95da-0529aa7b785a",
   "metadata": {},
   "outputs": [
    {
     "name": "stdout",
     "output_type": "stream",
     "text": [
      "Run this cell\n"
     ]
    }
   ],
   "source": [
    "print(\"Run this cell\")"
   ]
  },
  {
   "cell_type": "code",
   "execution_count": 6,
   "id": "70115fd7-d361-414f-826b-68ef4bf8ab9e",
   "metadata": {},
   "outputs": [],
   "source": [
    "def plus_one(x):\n",
    "    y = x + 1\n",
    "    return y"
   ]
  },
  {
   "cell_type": "code",
   "execution_count": 7,
   "id": "12e1ff2e-4106-445b-bdf2-92463eb08c30",
   "metadata": {},
   "outputs": [
    {
     "data": {
      "text/plain": [
       "21"
      ]
     },
     "execution_count": 7,
     "metadata": {},
     "output_type": "execute_result"
    }
   ],
   "source": [
    "plus_one(20)"
   ]
  },
  {
   "cell_type": "code",
   "execution_count": 8,
   "id": "044a4d9c-83c8-4c1f-8d4b-62c4e5ac1d43",
   "metadata": {},
   "outputs": [
    {
     "data": {
      "text/plain": [
       "8"
      ]
     },
     "execution_count": 8,
     "metadata": {},
     "output_type": "execute_result"
    }
   ],
   "source": [
    "# It will run one time actually, it doesn't matter we inkoved the fc twice\n",
    "plus_one(5)\n",
    "plus_one(7)"
   ]
  },
  {
   "cell_type": "code",
   "execution_count": 10,
   "id": "98f76c47-3618-46e4-8c37-76fb67be1c2e",
   "metadata": {},
   "outputs": [],
   "source": [
    "y = plus_one(5)\n",
    "z = plus_one(7)"
   ]
  },
  {
   "cell_type": "code",
   "execution_count": 11,
   "id": "e39c20a7-a5fc-4a8f-ab45-2889ec160f23",
   "metadata": {},
   "outputs": [
    {
     "name": "stdout",
     "output_type": "stream",
     "text": [
      "6 8\n"
     ]
    }
   ],
   "source": [
    "print(y,z)"
   ]
  },
  {
   "cell_type": "code",
   "execution_count": null,
   "id": "520ca836-3014-4437-b551-c91056f64505",
   "metadata": {},
   "outputs": [],
   "source": []
  }
 ],
 "metadata": {
  "kernelspec": {
   "display_name": "Python 3 (ipykernel)",
   "language": "python",
   "name": "python3"
  },
  "language_info": {
   "codemirror_mode": {
    "name": "ipython",
    "version": 3
   },
   "file_extension": ".py",
   "mimetype": "text/x-python",
   "name": "python",
   "nbconvert_exporter": "python",
   "pygments_lexer": "ipython3",
   "version": "3.12.6"
  }
 },
 "nbformat": 4,
 "nbformat_minor": 5
}
